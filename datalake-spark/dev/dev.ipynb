{
 "cells": [
  {
   "cell_type": "code",
   "execution_count": 1,
   "metadata": {
    "editable": true
   },
   "outputs": [],
   "source": [
    "import configparser\n",
    "from datetime import datetime\n",
    "import pandas as pd\n",
    "import os\n",
    "from pyspark.sql import SparkSession\n",
    "from pyspark import SparkContext\n",
    "from pyspark.sql.functions import udf, col\n",
    "from pyspark.sql.functions import year, month, dayofmonth, hour, weekofyear, date_format,from_unixtime\n",
    "from pyspark.sql.types import *\n"
   ]
  },
  {
   "cell_type": "code",
   "execution_count": 2,
   "metadata": {
    "editable": true
   },
   "outputs": [],
   "source": [
    "pd.set_option('display.max_columns', 500)\n",
    "pd.set_option('display.max_rows', 500)"
   ]
  },
  {
   "cell_type": "code",
   "execution_count": 3,
   "metadata": {
    "editable": true
   },
   "outputs": [],
   "source": [
    "#spark = SparkSession.builder.appName(\"dev\").master(\"local[*]\").getOrCreate()\n",
    "spark = SparkSession \\\n",
    "        .builder \\\n",
    "        .config(\"spark.jars.packages\", \"org.apache.hadoop:hadoop-aws:2.7.0\") \\\n",
    "        .getOrCreate()"
   ]
  },
  {
   "cell_type": "code",
   "execution_count": 6,
   "metadata": {
    "editable": true
   },
   "outputs": [
    {
     "data": {
      "text/plain": [
       "[('spark.submit.pyFiles',\n",
       "  '/root/.ivy2/jars/org.apache.hadoop_hadoop-aws-2.7.0.jar,/root/.ivy2/jars/org.apache.hadoop_hadoop-common-2.7.0.jar,/root/.ivy2/jars/com.fasterxml.jackson.core_jackson-databind-2.2.3.jar,/root/.ivy2/jars/com.fasterxml.jackson.core_jackson-annotations-2.2.3.jar,/root/.ivy2/jars/com.amazonaws_aws-java-sdk-1.7.4.jar,/root/.ivy2/jars/org.apache.hadoop_hadoop-annotations-2.7.0.jar,/root/.ivy2/jars/com.google.guava_guava-11.0.2.jar,/root/.ivy2/jars/commons-cli_commons-cli-1.2.jar,/root/.ivy2/jars/org.apache.commons_commons-math3-3.1.1.jar,/root/.ivy2/jars/xmlenc_xmlenc-0.52.jar,/root/.ivy2/jars/commons-httpclient_commons-httpclient-3.1.jar,/root/.ivy2/jars/commons-codec_commons-codec-1.4.jar,/root/.ivy2/jars/commons-io_commons-io-2.4.jar,/root/.ivy2/jars/commons-net_commons-net-3.1.jar,/root/.ivy2/jars/commons-collections_commons-collections-3.2.1.jar,/root/.ivy2/jars/javax.servlet_servlet-api-2.5.jar,/root/.ivy2/jars/org.mortbay.jetty_jetty-6.1.26.jar,/root/.ivy2/jars/org.mortbay.jetty_jetty-util-6.1.26.jar,/root/.ivy2/jars/com.sun.jersey_jersey-core-1.9.jar,/root/.ivy2/jars/com.sun.jersey_jersey-json-1.9.jar,/root/.ivy2/jars/com.sun.jersey_jersey-server-1.9.jar,/root/.ivy2/jars/commons-logging_commons-logging-1.1.3.jar,/root/.ivy2/jars/log4j_log4j-1.2.17.jar,/root/.ivy2/jars/net.java.dev.jets3t_jets3t-0.9.0.jar,/root/.ivy2/jars/commons-lang_commons-lang-2.6.jar,/root/.ivy2/jars/commons-configuration_commons-configuration-1.6.jar,/root/.ivy2/jars/org.slf4j_slf4j-api-1.7.10.jar,/root/.ivy2/jars/org.codehaus.jackson_jackson-core-asl-1.9.13.jar,/root/.ivy2/jars/org.codehaus.jackson_jackson-mapper-asl-1.9.13.jar,/root/.ivy2/jars/org.apache.avro_avro-1.7.4.jar,/root/.ivy2/jars/com.google.protobuf_protobuf-java-2.5.0.jar,/root/.ivy2/jars/com.google.code.gson_gson-2.2.4.jar,/root/.ivy2/jars/org.apache.hadoop_hadoop-auth-2.7.0.jar,/root/.ivy2/jars/com.jcraft_jsch-0.1.42.jar,/root/.ivy2/jars/org.apache.curator_curator-client-2.7.1.jar,/root/.ivy2/jars/org.apache.curator_curator-recipes-2.7.1.jar,/root/.ivy2/jars/com.google.code.findbugs_jsr305-3.0.0.jar,/root/.ivy2/jars/org.apache.htrace_htrace-core-3.1.0-incubating.jar,/root/.ivy2/jars/org.apache.zookeeper_zookeeper-3.4.6.jar,/root/.ivy2/jars/org.apache.commons_commons-compress-1.4.1.jar,/root/.ivy2/jars/org.codehaus.jettison_jettison-1.1.jar,/root/.ivy2/jars/com.sun.xml.bind_jaxb-impl-2.2.3-1.jar,/root/.ivy2/jars/org.codehaus.jackson_jackson-jaxrs-1.9.13.jar,/root/.ivy2/jars/org.codehaus.jackson_jackson-xc-1.9.13.jar,/root/.ivy2/jars/javax.xml.bind_jaxb-api-2.2.2.jar,/root/.ivy2/jars/javax.xml.stream_stax-api-1.0-2.jar,/root/.ivy2/jars/javax.activation_activation-1.1.jar,/root/.ivy2/jars/asm_asm-3.2.jar,/root/.ivy2/jars/org.apache.httpcomponents_httpclient-4.2.5.jar,/root/.ivy2/jars/org.apache.httpcomponents_httpcore-4.2.5.jar,/root/.ivy2/jars/com.jamesmurty.utils_java-xmlbuilder-0.4.jar,/root/.ivy2/jars/commons-digester_commons-digester-1.8.jar,/root/.ivy2/jars/commons-beanutils_commons-beanutils-core-1.8.0.jar,/root/.ivy2/jars/commons-beanutils_commons-beanutils-1.7.0.jar,/root/.ivy2/jars/com.thoughtworks.paranamer_paranamer-2.3.jar,/root/.ivy2/jars/org.xerial.snappy_snappy-java-1.0.4.1.jar,/root/.ivy2/jars/org.tukaani_xz-1.0.jar,/root/.ivy2/jars/org.apache.directory.server_apacheds-kerberos-codec-2.0.0-M15.jar,/root/.ivy2/jars/org.apache.curator_curator-framework-2.7.1.jar,/root/.ivy2/jars/org.apache.directory.server_apacheds-i18n-2.0.0-M15.jar,/root/.ivy2/jars/org.apache.directory.api_api-asn1-api-1.0.0-M20.jar,/root/.ivy2/jars/org.apache.directory.api_api-util-1.0.0-M20.jar,/root/.ivy2/jars/org.slf4j_slf4j-log4j12-1.7.10.jar,/root/.ivy2/jars/io.netty_netty-3.6.2.Final.jar,/root/.ivy2/jars/javax.servlet.jsp_jsp-api-2.1.jar,/root/.ivy2/jars/jline_jline-0.9.94.jar,/root/.ivy2/jars/junit_junit-4.11.jar,/root/.ivy2/jars/org.hamcrest_hamcrest-core-1.3.jar,/root/.ivy2/jars/com.fasterxml.jackson.core_jackson-core-2.2.3.jar,/root/.ivy2/jars/joda-time_joda-time-2.10.5.jar'),\n",
       " ('spark.jars',\n",
       "  'file:///root/.ivy2/jars/org.apache.hadoop_hadoop-aws-2.7.0.jar,file:///root/.ivy2/jars/org.apache.hadoop_hadoop-common-2.7.0.jar,file:///root/.ivy2/jars/com.fasterxml.jackson.core_jackson-databind-2.2.3.jar,file:///root/.ivy2/jars/com.fasterxml.jackson.core_jackson-annotations-2.2.3.jar,file:///root/.ivy2/jars/com.amazonaws_aws-java-sdk-1.7.4.jar,file:///root/.ivy2/jars/org.apache.hadoop_hadoop-annotations-2.7.0.jar,file:///root/.ivy2/jars/com.google.guava_guava-11.0.2.jar,file:///root/.ivy2/jars/commons-cli_commons-cli-1.2.jar,file:///root/.ivy2/jars/org.apache.commons_commons-math3-3.1.1.jar,file:///root/.ivy2/jars/xmlenc_xmlenc-0.52.jar,file:///root/.ivy2/jars/commons-httpclient_commons-httpclient-3.1.jar,file:///root/.ivy2/jars/commons-codec_commons-codec-1.4.jar,file:///root/.ivy2/jars/commons-io_commons-io-2.4.jar,file:///root/.ivy2/jars/commons-net_commons-net-3.1.jar,file:///root/.ivy2/jars/commons-collections_commons-collections-3.2.1.jar,file:///root/.ivy2/jars/javax.servlet_servlet-api-2.5.jar,file:///root/.ivy2/jars/org.mortbay.jetty_jetty-6.1.26.jar,file:///root/.ivy2/jars/org.mortbay.jetty_jetty-util-6.1.26.jar,file:///root/.ivy2/jars/com.sun.jersey_jersey-core-1.9.jar,file:///root/.ivy2/jars/com.sun.jersey_jersey-json-1.9.jar,file:///root/.ivy2/jars/com.sun.jersey_jersey-server-1.9.jar,file:///root/.ivy2/jars/commons-logging_commons-logging-1.1.3.jar,file:///root/.ivy2/jars/log4j_log4j-1.2.17.jar,file:///root/.ivy2/jars/net.java.dev.jets3t_jets3t-0.9.0.jar,file:///root/.ivy2/jars/commons-lang_commons-lang-2.6.jar,file:///root/.ivy2/jars/commons-configuration_commons-configuration-1.6.jar,file:///root/.ivy2/jars/org.slf4j_slf4j-api-1.7.10.jar,file:///root/.ivy2/jars/org.codehaus.jackson_jackson-core-asl-1.9.13.jar,file:///root/.ivy2/jars/org.codehaus.jackson_jackson-mapper-asl-1.9.13.jar,file:///root/.ivy2/jars/org.apache.avro_avro-1.7.4.jar,file:///root/.ivy2/jars/com.google.protobuf_protobuf-java-2.5.0.jar,file:///root/.ivy2/jars/com.google.code.gson_gson-2.2.4.jar,file:///root/.ivy2/jars/org.apache.hadoop_hadoop-auth-2.7.0.jar,file:///root/.ivy2/jars/com.jcraft_jsch-0.1.42.jar,file:///root/.ivy2/jars/org.apache.curator_curator-client-2.7.1.jar,file:///root/.ivy2/jars/org.apache.curator_curator-recipes-2.7.1.jar,file:///root/.ivy2/jars/com.google.code.findbugs_jsr305-3.0.0.jar,file:///root/.ivy2/jars/org.apache.htrace_htrace-core-3.1.0-incubating.jar,file:///root/.ivy2/jars/org.apache.zookeeper_zookeeper-3.4.6.jar,file:///root/.ivy2/jars/org.apache.commons_commons-compress-1.4.1.jar,file:///root/.ivy2/jars/org.codehaus.jettison_jettison-1.1.jar,file:///root/.ivy2/jars/com.sun.xml.bind_jaxb-impl-2.2.3-1.jar,file:///root/.ivy2/jars/org.codehaus.jackson_jackson-jaxrs-1.9.13.jar,file:///root/.ivy2/jars/org.codehaus.jackson_jackson-xc-1.9.13.jar,file:///root/.ivy2/jars/javax.xml.bind_jaxb-api-2.2.2.jar,file:///root/.ivy2/jars/javax.xml.stream_stax-api-1.0-2.jar,file:///root/.ivy2/jars/javax.activation_activation-1.1.jar,file:///root/.ivy2/jars/asm_asm-3.2.jar,file:///root/.ivy2/jars/org.apache.httpcomponents_httpclient-4.2.5.jar,file:///root/.ivy2/jars/org.apache.httpcomponents_httpcore-4.2.5.jar,file:///root/.ivy2/jars/com.jamesmurty.utils_java-xmlbuilder-0.4.jar,file:///root/.ivy2/jars/commons-digester_commons-digester-1.8.jar,file:///root/.ivy2/jars/commons-beanutils_commons-beanutils-core-1.8.0.jar,file:///root/.ivy2/jars/commons-beanutils_commons-beanutils-1.7.0.jar,file:///root/.ivy2/jars/com.thoughtworks.paranamer_paranamer-2.3.jar,file:///root/.ivy2/jars/org.xerial.snappy_snappy-java-1.0.4.1.jar,file:///root/.ivy2/jars/org.tukaani_xz-1.0.jar,file:///root/.ivy2/jars/org.apache.directory.server_apacheds-kerberos-codec-2.0.0-M15.jar,file:///root/.ivy2/jars/org.apache.curator_curator-framework-2.7.1.jar,file:///root/.ivy2/jars/org.apache.directory.server_apacheds-i18n-2.0.0-M15.jar,file:///root/.ivy2/jars/org.apache.directory.api_api-asn1-api-1.0.0-M20.jar,file:///root/.ivy2/jars/org.apache.directory.api_api-util-1.0.0-M20.jar,file:///root/.ivy2/jars/org.slf4j_slf4j-log4j12-1.7.10.jar,file:///root/.ivy2/jars/io.netty_netty-3.6.2.Final.jar,file:///root/.ivy2/jars/javax.servlet.jsp_jsp-api-2.1.jar,file:///root/.ivy2/jars/jline_jline-0.9.94.jar,file:///root/.ivy2/jars/junit_junit-4.11.jar,file:///root/.ivy2/jars/org.hamcrest_hamcrest-core-1.3.jar,file:///root/.ivy2/jars/com.fasterxml.jackson.core_jackson-core-2.2.3.jar,file:///root/.ivy2/jars/joda-time_joda-time-2.10.5.jar'),\n",
       " ('spark.files',\n",
       "  'file:///root/.ivy2/jars/org.apache.hadoop_hadoop-aws-2.7.0.jar,file:///root/.ivy2/jars/org.apache.hadoop_hadoop-common-2.7.0.jar,file:///root/.ivy2/jars/com.fasterxml.jackson.core_jackson-databind-2.2.3.jar,file:///root/.ivy2/jars/com.fasterxml.jackson.core_jackson-annotations-2.2.3.jar,file:///root/.ivy2/jars/com.amazonaws_aws-java-sdk-1.7.4.jar,file:///root/.ivy2/jars/org.apache.hadoop_hadoop-annotations-2.7.0.jar,file:///root/.ivy2/jars/com.google.guava_guava-11.0.2.jar,file:///root/.ivy2/jars/commons-cli_commons-cli-1.2.jar,file:///root/.ivy2/jars/org.apache.commons_commons-math3-3.1.1.jar,file:///root/.ivy2/jars/xmlenc_xmlenc-0.52.jar,file:///root/.ivy2/jars/commons-httpclient_commons-httpclient-3.1.jar,file:///root/.ivy2/jars/commons-codec_commons-codec-1.4.jar,file:///root/.ivy2/jars/commons-io_commons-io-2.4.jar,file:///root/.ivy2/jars/commons-net_commons-net-3.1.jar,file:///root/.ivy2/jars/commons-collections_commons-collections-3.2.1.jar,file:///root/.ivy2/jars/javax.servlet_servlet-api-2.5.jar,file:///root/.ivy2/jars/org.mortbay.jetty_jetty-6.1.26.jar,file:///root/.ivy2/jars/org.mortbay.jetty_jetty-util-6.1.26.jar,file:///root/.ivy2/jars/com.sun.jersey_jersey-core-1.9.jar,file:///root/.ivy2/jars/com.sun.jersey_jersey-json-1.9.jar,file:///root/.ivy2/jars/com.sun.jersey_jersey-server-1.9.jar,file:///root/.ivy2/jars/commons-logging_commons-logging-1.1.3.jar,file:///root/.ivy2/jars/log4j_log4j-1.2.17.jar,file:///root/.ivy2/jars/net.java.dev.jets3t_jets3t-0.9.0.jar,file:///root/.ivy2/jars/commons-lang_commons-lang-2.6.jar,file:///root/.ivy2/jars/commons-configuration_commons-configuration-1.6.jar,file:///root/.ivy2/jars/org.slf4j_slf4j-api-1.7.10.jar,file:///root/.ivy2/jars/org.codehaus.jackson_jackson-core-asl-1.9.13.jar,file:///root/.ivy2/jars/org.codehaus.jackson_jackson-mapper-asl-1.9.13.jar,file:///root/.ivy2/jars/org.apache.avro_avro-1.7.4.jar,file:///root/.ivy2/jars/com.google.protobuf_protobuf-java-2.5.0.jar,file:///root/.ivy2/jars/com.google.code.gson_gson-2.2.4.jar,file:///root/.ivy2/jars/org.apache.hadoop_hadoop-auth-2.7.0.jar,file:///root/.ivy2/jars/com.jcraft_jsch-0.1.42.jar,file:///root/.ivy2/jars/org.apache.curator_curator-client-2.7.1.jar,file:///root/.ivy2/jars/org.apache.curator_curator-recipes-2.7.1.jar,file:///root/.ivy2/jars/com.google.code.findbugs_jsr305-3.0.0.jar,file:///root/.ivy2/jars/org.apache.htrace_htrace-core-3.1.0-incubating.jar,file:///root/.ivy2/jars/org.apache.zookeeper_zookeeper-3.4.6.jar,file:///root/.ivy2/jars/org.apache.commons_commons-compress-1.4.1.jar,file:///root/.ivy2/jars/org.codehaus.jettison_jettison-1.1.jar,file:///root/.ivy2/jars/com.sun.xml.bind_jaxb-impl-2.2.3-1.jar,file:///root/.ivy2/jars/org.codehaus.jackson_jackson-jaxrs-1.9.13.jar,file:///root/.ivy2/jars/org.codehaus.jackson_jackson-xc-1.9.13.jar,file:///root/.ivy2/jars/javax.xml.bind_jaxb-api-2.2.2.jar,file:///root/.ivy2/jars/javax.xml.stream_stax-api-1.0-2.jar,file:///root/.ivy2/jars/javax.activation_activation-1.1.jar,file:///root/.ivy2/jars/asm_asm-3.2.jar,file:///root/.ivy2/jars/org.apache.httpcomponents_httpclient-4.2.5.jar,file:///root/.ivy2/jars/org.apache.httpcomponents_httpcore-4.2.5.jar,file:///root/.ivy2/jars/com.jamesmurty.utils_java-xmlbuilder-0.4.jar,file:///root/.ivy2/jars/commons-digester_commons-digester-1.8.jar,file:///root/.ivy2/jars/commons-beanutils_commons-beanutils-core-1.8.0.jar,file:///root/.ivy2/jars/commons-beanutils_commons-beanutils-1.7.0.jar,file:///root/.ivy2/jars/com.thoughtworks.paranamer_paranamer-2.3.jar,file:///root/.ivy2/jars/org.xerial.snappy_snappy-java-1.0.4.1.jar,file:///root/.ivy2/jars/org.tukaani_xz-1.0.jar,file:///root/.ivy2/jars/org.apache.directory.server_apacheds-kerberos-codec-2.0.0-M15.jar,file:///root/.ivy2/jars/org.apache.curator_curator-framework-2.7.1.jar,file:///root/.ivy2/jars/org.apache.directory.server_apacheds-i18n-2.0.0-M15.jar,file:///root/.ivy2/jars/org.apache.directory.api_api-asn1-api-1.0.0-M20.jar,file:///root/.ivy2/jars/org.apache.directory.api_api-util-1.0.0-M20.jar,file:///root/.ivy2/jars/org.slf4j_slf4j-log4j12-1.7.10.jar,file:///root/.ivy2/jars/io.netty_netty-3.6.2.Final.jar,file:///root/.ivy2/jars/javax.servlet.jsp_jsp-api-2.1.jar,file:///root/.ivy2/jars/jline_jline-0.9.94.jar,file:///root/.ivy2/jars/junit_junit-4.11.jar,file:///root/.ivy2/jars/org.hamcrest_hamcrest-core-1.3.jar,file:///root/.ivy2/jars/com.fasterxml.jackson.core_jackson-core-2.2.3.jar,file:///root/.ivy2/jars/joda-time_joda-time-2.10.5.jar'),\n",
       " ('spark.repl.local.jars',\n",
       "  'file:///root/.ivy2/jars/org.apache.hadoop_hadoop-aws-2.7.0.jar,file:///root/.ivy2/jars/org.apache.hadoop_hadoop-common-2.7.0.jar,file:///root/.ivy2/jars/com.fasterxml.jackson.core_jackson-databind-2.2.3.jar,file:///root/.ivy2/jars/com.fasterxml.jackson.core_jackson-annotations-2.2.3.jar,file:///root/.ivy2/jars/com.amazonaws_aws-java-sdk-1.7.4.jar,file:///root/.ivy2/jars/org.apache.hadoop_hadoop-annotations-2.7.0.jar,file:///root/.ivy2/jars/com.google.guava_guava-11.0.2.jar,file:///root/.ivy2/jars/commons-cli_commons-cli-1.2.jar,file:///root/.ivy2/jars/org.apache.commons_commons-math3-3.1.1.jar,file:///root/.ivy2/jars/xmlenc_xmlenc-0.52.jar,file:///root/.ivy2/jars/commons-httpclient_commons-httpclient-3.1.jar,file:///root/.ivy2/jars/commons-codec_commons-codec-1.4.jar,file:///root/.ivy2/jars/commons-io_commons-io-2.4.jar,file:///root/.ivy2/jars/commons-net_commons-net-3.1.jar,file:///root/.ivy2/jars/commons-collections_commons-collections-3.2.1.jar,file:///root/.ivy2/jars/javax.servlet_servlet-api-2.5.jar,file:///root/.ivy2/jars/org.mortbay.jetty_jetty-6.1.26.jar,file:///root/.ivy2/jars/org.mortbay.jetty_jetty-util-6.1.26.jar,file:///root/.ivy2/jars/com.sun.jersey_jersey-core-1.9.jar,file:///root/.ivy2/jars/com.sun.jersey_jersey-json-1.9.jar,file:///root/.ivy2/jars/com.sun.jersey_jersey-server-1.9.jar,file:///root/.ivy2/jars/commons-logging_commons-logging-1.1.3.jar,file:///root/.ivy2/jars/log4j_log4j-1.2.17.jar,file:///root/.ivy2/jars/net.java.dev.jets3t_jets3t-0.9.0.jar,file:///root/.ivy2/jars/commons-lang_commons-lang-2.6.jar,file:///root/.ivy2/jars/commons-configuration_commons-configuration-1.6.jar,file:///root/.ivy2/jars/org.slf4j_slf4j-api-1.7.10.jar,file:///root/.ivy2/jars/org.codehaus.jackson_jackson-core-asl-1.9.13.jar,file:///root/.ivy2/jars/org.codehaus.jackson_jackson-mapper-asl-1.9.13.jar,file:///root/.ivy2/jars/org.apache.avro_avro-1.7.4.jar,file:///root/.ivy2/jars/com.google.protobuf_protobuf-java-2.5.0.jar,file:///root/.ivy2/jars/com.google.code.gson_gson-2.2.4.jar,file:///root/.ivy2/jars/org.apache.hadoop_hadoop-auth-2.7.0.jar,file:///root/.ivy2/jars/com.jcraft_jsch-0.1.42.jar,file:///root/.ivy2/jars/org.apache.curator_curator-client-2.7.1.jar,file:///root/.ivy2/jars/org.apache.curator_curator-recipes-2.7.1.jar,file:///root/.ivy2/jars/com.google.code.findbugs_jsr305-3.0.0.jar,file:///root/.ivy2/jars/org.apache.htrace_htrace-core-3.1.0-incubating.jar,file:///root/.ivy2/jars/org.apache.zookeeper_zookeeper-3.4.6.jar,file:///root/.ivy2/jars/org.apache.commons_commons-compress-1.4.1.jar,file:///root/.ivy2/jars/org.codehaus.jettison_jettison-1.1.jar,file:///root/.ivy2/jars/com.sun.xml.bind_jaxb-impl-2.2.3-1.jar,file:///root/.ivy2/jars/org.codehaus.jackson_jackson-jaxrs-1.9.13.jar,file:///root/.ivy2/jars/org.codehaus.jackson_jackson-xc-1.9.13.jar,file:///root/.ivy2/jars/javax.xml.bind_jaxb-api-2.2.2.jar,file:///root/.ivy2/jars/javax.xml.stream_stax-api-1.0-2.jar,file:///root/.ivy2/jars/javax.activation_activation-1.1.jar,file:///root/.ivy2/jars/asm_asm-3.2.jar,file:///root/.ivy2/jars/org.apache.httpcomponents_httpclient-4.2.5.jar,file:///root/.ivy2/jars/org.apache.httpcomponents_httpcore-4.2.5.jar,file:///root/.ivy2/jars/com.jamesmurty.utils_java-xmlbuilder-0.4.jar,file:///root/.ivy2/jars/commons-digester_commons-digester-1.8.jar,file:///root/.ivy2/jars/commons-beanutils_commons-beanutils-core-1.8.0.jar,file:///root/.ivy2/jars/commons-beanutils_commons-beanutils-1.7.0.jar,file:///root/.ivy2/jars/com.thoughtworks.paranamer_paranamer-2.3.jar,file:///root/.ivy2/jars/org.xerial.snappy_snappy-java-1.0.4.1.jar,file:///root/.ivy2/jars/org.tukaani_xz-1.0.jar,file:///root/.ivy2/jars/org.apache.directory.server_apacheds-kerberos-codec-2.0.0-M15.jar,file:///root/.ivy2/jars/org.apache.curator_curator-framework-2.7.1.jar,file:///root/.ivy2/jars/org.apache.directory.server_apacheds-i18n-2.0.0-M15.jar,file:///root/.ivy2/jars/org.apache.directory.api_api-asn1-api-1.0.0-M20.jar,file:///root/.ivy2/jars/org.apache.directory.api_api-util-1.0.0-M20.jar,file:///root/.ivy2/jars/org.slf4j_slf4j-log4j12-1.7.10.jar,file:///root/.ivy2/jars/io.netty_netty-3.6.2.Final.jar,file:///root/.ivy2/jars/javax.servlet.jsp_jsp-api-2.1.jar,file:///root/.ivy2/jars/jline_jline-0.9.94.jar,file:///root/.ivy2/jars/junit_junit-4.11.jar,file:///root/.ivy2/jars/org.hamcrest_hamcrest-core-1.3.jar,file:///root/.ivy2/jars/com.fasterxml.jackson.core_jackson-core-2.2.3.jar,file:///root/.ivy2/jars/joda-time_joda-time-2.10.5.jar'),\n",
       " ('spark.executor.id', 'driver'),\n",
       " ('spark.driver.host', 'e02b5cea6735'),\n",
       " ('spark.app.name', 'pyspark-shell'),\n",
       " ('spark.app.id', 'local-1587329823483'),\n",
       " ('spark.driver.port', '42785'),\n",
       " ('spark.jars.packages', 'org.apache.hadoop:hadoop-aws:2.7.0'),\n",
       " ('spark.rdd.compress', 'True'),\n",
       " ('spark.serializer.objectStreamReset', '100'),\n",
       " ('spark.master', 'local[*]'),\n",
       " ('spark.submit.deployMode', 'client'),\n",
       " ('spark.ui.showConsoleProgress', 'true')]"
      ]
     },
     "execution_count": 6,
     "metadata": {},
     "output_type": "execute_result"
    }
   ],
   "source": [
    "spark.sparkContext.getConf().getAll()"
   ]
  },
  {
   "cell_type": "code",
   "execution_count": 5,
   "metadata": {
    "editable": true
   },
   "outputs": [],
   "source": [
    "df_song_data = spark.read.json(\"data/song_data/*/*/*/*.json\")\n",
    "df_log_data = spark.read.json(\"data/log_data/*.json\")"
   ]
  },
  {
   "cell_type": "code",
   "execution_count": 44,
   "metadata": {
    "editable": true
   },
   "outputs": [
    {
     "name": "stdout",
     "output_type": "stream",
     "text": [
      "root\n",
      " |-- artist_id: string (nullable = true)\n",
      " |-- artist_latitude: double (nullable = true)\n",
      " |-- artist_location: string (nullable = true)\n",
      " |-- artist_longitude: double (nullable = true)\n",
      " |-- artist_name: string (nullable = true)\n",
      " |-- duration: double (nullable = true)\n",
      " |-- num_songs: long (nullable = true)\n",
      " |-- song_id: string (nullable = true)\n",
      " |-- title: string (nullable = true)\n",
      " |-- year: long (nullable = true)\n",
      "\n"
     ]
    }
   ],
   "source": [
    "df_song_data.printSchema()"
   ]
  },
  {
   "cell_type": "code",
   "execution_count": 45,
   "metadata": {
    "editable": true
   },
   "outputs": [],
   "source": [
    "df_song_data.createOrReplaceTempView('songs_dataset')"
   ]
  },
  {
   "cell_type": "markdown",
   "metadata": {
    "editable": true
   },
   "source": [
    "## Table schemas\n",
    "- Fact Table\n",
    "   songplays: records in log data associated with song plays i.e. records with page NextSong\n",
    "   - songplay_id, start_time, user_id, level, song_id, artist_id, session_id, location, user_agent\n",
    "\n",
    "### Dimension Tables\n",
    "- users - users in the app\n",
    "   - user_id, first_name, last_name, gender, level\n",
    "- songs - songs in music database\n",
    "   - song_id, title, artist_id, year, duration\n",
    "- artists - artists in music database\n",
    "  - artist_id, name, location, lattitude, longitude\n",
    "- time - timestamps of records in songplays broken down into specific units\n",
    "  - start_time, hour, day, week, month, year, weekday"
   ]
  },
  {
   "cell_type": "code",
   "execution_count": 56,
   "metadata": {
    "editable": true
   },
   "outputs": [],
   "source": [
    "## creating song table\n",
    "\n",
    "dim_songs = spark.sql(\"\"\"\n",
    "    SELECT\n",
    "        Distinct\n",
    "        song_id,\n",
    "        title,\n",
    "        artist_id, \n",
    "        year,\n",
    "        duration\n",
    "        \n",
    "    FROM songs_dataset \n",
    "    \n",
    "    where song_id IS NOT NULL\n",
    "\n",
    "\"\"\")\n"
   ]
  },
  {
   "cell_type": "code",
   "execution_count": 58,
   "metadata": {
    "editable": true
   },
   "outputs": [
    {
     "data": {
      "text/plain": [
       "71"
      ]
     },
     "execution_count": 58,
     "metadata": {},
     "output_type": "execute_result"
    }
   ],
   "source": [
    "dim_songs.drop_duplicates().count()"
   ]
  },
  {
   "cell_type": "code",
   "execution_count": 59,
   "metadata": {
    "editable": true
   },
   "outputs": [],
   "source": [
    "# creating artists table\n",
    "dim_artists = spark.sql(\"\"\"\n",
    "                            SELECT DISTINCT \n",
    "                            artist_id, \n",
    "                            artist_name,\n",
    "                            artist_location,\n",
    "                            artist_latitude,\n",
    "                            artist_longitude\n",
    "                            FROM songs_dataset\n",
    "                            WHERE artist_id IS NOT NULL\n",
    "                        \"\"\")"
   ]
  },
  {
   "cell_type": "code",
   "execution_count": 64,
   "metadata": {
    "editable": true
   },
   "outputs": [
    {
     "data": {
      "text/plain": [
       "69"
      ]
     },
     "execution_count": 64,
     "metadata": {},
     "output_type": "execute_result"
    }
   ],
   "source": [
    "dim_artists.count()"
   ]
  },
  {
   "cell_type": "code",
   "execution_count": 37,
   "metadata": {
    "editable": true
   },
   "outputs": [
    {
     "name": "stdout",
     "output_type": "stream",
     "text": [
      "root\n",
      " |-- artist: string (nullable = true)\n",
      " |-- auth: string (nullable = true)\n",
      " |-- firstName: string (nullable = true)\n",
      " |-- gender: string (nullable = true)\n",
      " |-- itemInSession: long (nullable = true)\n",
      " |-- lastName: string (nullable = true)\n",
      " |-- length: double (nullable = true)\n",
      " |-- level: string (nullable = true)\n",
      " |-- location: string (nullable = true)\n",
      " |-- method: string (nullable = true)\n",
      " |-- page: string (nullable = true)\n",
      " |-- registration: double (nullable = true)\n",
      " |-- sessionId: long (nullable = true)\n",
      " |-- song: string (nullable = true)\n",
      " |-- status: long (nullable = true)\n",
      " |-- ts: long (nullable = true)\n",
      " |-- userAgent: string (nullable = true)\n",
      " |-- userId: string (nullable = true)\n",
      "\n"
     ]
    }
   ],
   "source": [
    "df_log_data.printSchema()"
   ]
  },
  {
   "cell_type": "code",
   "execution_count": 65,
   "metadata": {
    "editable": true
   },
   "outputs": [],
   "source": [
    "df_log_filter = df_log_data.filter(df_log_data.page == 'NextSong')"
   ]
  },
  {
   "cell_type": "code",
   "execution_count": 67,
   "metadata": {
    "editable": true
   },
   "outputs": [
    {
     "data": {
      "text/plain": [
       "8056"
      ]
     },
     "execution_count": 67,
     "metadata": {},
     "output_type": "execute_result"
    }
   ],
   "source": [
    "df_log_data.count()\n"
   ]
  },
  {
   "cell_type": "code",
   "execution_count": 68,
   "metadata": {
    "editable": true
   },
   "outputs": [
    {
     "data": {
      "text/plain": [
       "6820"
      ]
     },
     "execution_count": 68,
     "metadata": {},
     "output_type": "execute_result"
    }
   ],
   "source": [
    "df_log_filter.count()"
   ]
  },
  {
   "cell_type": "code",
   "execution_count": 69,
   "metadata": {
    "editable": true
   },
   "outputs": [],
   "source": [
    "df_log_filter.createOrReplaceTempView(\"log_dataset\")"
   ]
  },
  {
   "cell_type": "code",
   "execution_count": 71,
   "metadata": {
    "editable": true
   },
   "outputs": [],
   "source": [
    "  # extract columns for users table    \n",
    "dim_users = spark.sql(\"\"\"\n",
    "                        SELECT DISTINCT \n",
    "                        userId as user_id, \n",
    "                        firstName as first_name,\n",
    "                        lastName as last_name,\n",
    "                        gender as gender,\n",
    "                        level as level\n",
    "                        FROM log_dataset \n",
    "                        WHERE userId IS NOT NULL\n",
    "                        \n",
    "                    \"\"\")\n"
   ]
  },
  {
   "cell_type": "code",
   "execution_count": 72,
   "metadata": {
    "editable": true
   },
   "outputs": [
    {
     "data": {
      "text/plain": [
       "104"
      ]
     },
     "execution_count": 72,
     "metadata": {},
     "output_type": "execute_result"
    }
   ],
   "source": [
    "dim_users.count()"
   ]
  },
  {
   "cell_type": "code",
   "execution_count": 75,
   "metadata": {
    "editable": true
   },
   "outputs": [],
   "source": [
    "# extract columns to create time table\n",
    "\n",
    "dim_time = spark.sql(\"\"\"\n",
    "\n",
    "\n",
    "                with A as (\n",
    "                SELECT to_timestamp(ts/1000) as ts\n",
    "                                        FROM log_dataset \n",
    "                                        WHERE ts IS NOT NULL\n",
    "\n",
    "                )\n",
    "\n",
    "                SELECT \n",
    "                    A.ts as start_time,\n",
    "                    hour(A.ts) as hour,\n",
    "                    dayofmonth(A.ts) as day,\n",
    "                    weekofyear(A.ts) as week,\n",
    "                    month(A.ts) as month,\n",
    "                    year(A.ts) as year,\n",
    "                    dayofweek(A.ts) as weekday\n",
    "\n",
    "                FROM A\n",
    "\n",
    "\"\"\")"
   ]
  },
  {
   "cell_type": "code",
   "execution_count": 76,
   "metadata": {
    "editable": true
   },
   "outputs": [
    {
     "data": {
      "text/html": [
       "<div>\n",
       "<style scoped>\n",
       "    .dataframe tbody tr th:only-of-type {\n",
       "        vertical-align: middle;\n",
       "    }\n",
       "\n",
       "    .dataframe tbody tr th {\n",
       "        vertical-align: top;\n",
       "    }\n",
       "\n",
       "    .dataframe thead th {\n",
       "        text-align: right;\n",
       "    }\n",
       "</style>\n",
       "<table border=\"1\" class=\"dataframe\">\n",
       "  <thead>\n",
       "    <tr style=\"text-align: right;\">\n",
       "      <th></th>\n",
       "      <th>start_time</th>\n",
       "      <th>hour</th>\n",
       "      <th>day</th>\n",
       "      <th>week</th>\n",
       "      <th>month</th>\n",
       "      <th>year</th>\n",
       "      <th>weekday</th>\n",
       "    </tr>\n",
       "  </thead>\n",
       "  <tbody>\n",
       "    <tr>\n",
       "      <th>0</th>\n",
       "      <td>2018-11-15 00:30:26.796</td>\n",
       "      <td>0</td>\n",
       "      <td>15</td>\n",
       "      <td>46</td>\n",
       "      <td>11</td>\n",
       "      <td>2018</td>\n",
       "      <td>5</td>\n",
       "    </tr>\n",
       "    <tr>\n",
       "      <th>1</th>\n",
       "      <td>2018-11-15 00:41:21.796</td>\n",
       "      <td>0</td>\n",
       "      <td>15</td>\n",
       "      <td>46</td>\n",
       "      <td>11</td>\n",
       "      <td>2018</td>\n",
       "      <td>5</td>\n",
       "    </tr>\n",
       "    <tr>\n",
       "      <th>2</th>\n",
       "      <td>2018-11-15 00:45:41.796</td>\n",
       "      <td>0</td>\n",
       "      <td>15</td>\n",
       "      <td>46</td>\n",
       "      <td>11</td>\n",
       "      <td>2018</td>\n",
       "      <td>5</td>\n",
       "    </tr>\n",
       "    <tr>\n",
       "      <th>3</th>\n",
       "      <td>2018-11-15 03:44:09.796</td>\n",
       "      <td>3</td>\n",
       "      <td>15</td>\n",
       "      <td>46</td>\n",
       "      <td>11</td>\n",
       "      <td>2018</td>\n",
       "      <td>5</td>\n",
       "    </tr>\n",
       "    <tr>\n",
       "      <th>4</th>\n",
       "      <td>2018-11-15 05:48:55.796</td>\n",
       "      <td>5</td>\n",
       "      <td>15</td>\n",
       "      <td>46</td>\n",
       "      <td>11</td>\n",
       "      <td>2018</td>\n",
       "      <td>5</td>\n",
       "    </tr>\n",
       "    <tr>\n",
       "      <th>5</th>\n",
       "      <td>2018-11-15 05:53:44.796</td>\n",
       "      <td>5</td>\n",
       "      <td>15</td>\n",
       "      <td>46</td>\n",
       "      <td>11</td>\n",
       "      <td>2018</td>\n",
       "      <td>5</td>\n",
       "    </tr>\n",
       "    <tr>\n",
       "      <th>6</th>\n",
       "      <td>2018-11-15 05:55:56.796</td>\n",
       "      <td>5</td>\n",
       "      <td>15</td>\n",
       "      <td>46</td>\n",
       "      <td>11</td>\n",
       "      <td>2018</td>\n",
       "      <td>5</td>\n",
       "    </tr>\n",
       "    <tr>\n",
       "      <th>7</th>\n",
       "      <td>2018-11-15 06:01:02.796</td>\n",
       "      <td>6</td>\n",
       "      <td>15</td>\n",
       "      <td>46</td>\n",
       "      <td>11</td>\n",
       "      <td>2018</td>\n",
       "      <td>5</td>\n",
       "    </tr>\n",
       "    <tr>\n",
       "      <th>8</th>\n",
       "      <td>2018-11-15 06:07:37.796</td>\n",
       "      <td>6</td>\n",
       "      <td>15</td>\n",
       "      <td>46</td>\n",
       "      <td>11</td>\n",
       "      <td>2018</td>\n",
       "      <td>5</td>\n",
       "    </tr>\n",
       "    <tr>\n",
       "      <th>9</th>\n",
       "      <td>2018-11-15 06:10:33.796</td>\n",
       "      <td>6</td>\n",
       "      <td>15</td>\n",
       "      <td>46</td>\n",
       "      <td>11</td>\n",
       "      <td>2018</td>\n",
       "      <td>5</td>\n",
       "    </tr>\n",
       "  </tbody>\n",
       "</table>\n",
       "</div>"
      ],
      "text/plain": [
       "               start_time  hour  day  week  month  year  weekday\n",
       "0 2018-11-15 00:30:26.796     0   15    46     11  2018        5\n",
       "1 2018-11-15 00:41:21.796     0   15    46     11  2018        5\n",
       "2 2018-11-15 00:45:41.796     0   15    46     11  2018        5\n",
       "3 2018-11-15 03:44:09.796     3   15    46     11  2018        5\n",
       "4 2018-11-15 05:48:55.796     5   15    46     11  2018        5\n",
       "5 2018-11-15 05:53:44.796     5   15    46     11  2018        5\n",
       "6 2018-11-15 05:55:56.796     5   15    46     11  2018        5\n",
       "7 2018-11-15 06:01:02.796     6   15    46     11  2018        5\n",
       "8 2018-11-15 06:07:37.796     6   15    46     11  2018        5\n",
       "9 2018-11-15 06:10:33.796     6   15    46     11  2018        5"
      ]
     },
     "execution_count": 76,
     "metadata": {},
     "output_type": "execute_result"
    }
   ],
   "source": [
    "dim_time.limit(10).toPandas()"
   ]
  },
  {
   "cell_type": "code",
   "execution_count": 77,
   "metadata": {
    "editable": true
   },
   "outputs": [
    {
     "data": {
      "text/plain": [
       "6820"
      ]
     },
     "execution_count": 77,
     "metadata": {},
     "output_type": "execute_result"
    }
   ],
   "source": [
    "dim_time.count()"
   ]
  },
  {
   "cell_type": "code",
   "execution_count": 78,
   "metadata": {
    "editable": true
   },
   "outputs": [],
   "source": [
    "# creating Fact table\n",
    "songplays_table = spark.sql(\"\"\"\n",
    "                                SELECT \n",
    "                                monotonically_increasing_id() as songplay_id,\n",
    "                                to_timestamp(logD.ts/1000) as start_time,\n",
    "                                month(to_timestamp(logD.ts/1000)) as month,\n",
    "                                year(to_timestamp(logD.ts/1000)) as year,\n",
    "                                logD.userId as user_id,\n",
    "                                logD.level as level,\n",
    "                                songD.song_id as song_id,\n",
    "                                songD.artist_id as artist_id,\n",
    "                                logD.sessionId as session_id,\n",
    "                                logD.location as location,\n",
    "                                logD.userAgent as user_agent\n",
    "                                FROM log_dataset logD\n",
    "                                JOIN songs_dataset songD\n",
    "                                on \n",
    "                                logD.artist = songD.artist_name\n",
    "                                                and logD.song = songD.title\n",
    "                            \"\"\")"
   ]
  },
  {
   "cell_type": "code",
   "execution_count": 79,
   "metadata": {
    "editable": true
   },
   "outputs": [
    {
     "data": {
      "text/html": [
       "<div>\n",
       "<style scoped>\n",
       "    .dataframe tbody tr th:only-of-type {\n",
       "        vertical-align: middle;\n",
       "    }\n",
       "\n",
       "    .dataframe tbody tr th {\n",
       "        vertical-align: top;\n",
       "    }\n",
       "\n",
       "    .dataframe thead th {\n",
       "        text-align: right;\n",
       "    }\n",
       "</style>\n",
       "<table border=\"1\" class=\"dataframe\">\n",
       "  <thead>\n",
       "    <tr style=\"text-align: right;\">\n",
       "      <th></th>\n",
       "      <th>songplay_id</th>\n",
       "      <th>start_time</th>\n",
       "      <th>month</th>\n",
       "      <th>year</th>\n",
       "      <th>user_id</th>\n",
       "      <th>level</th>\n",
       "      <th>song_id</th>\n",
       "      <th>artist_id</th>\n",
       "      <th>session_id</th>\n",
       "      <th>location</th>\n",
       "      <th>user_agent</th>\n",
       "    </tr>\n",
       "  </thead>\n",
       "  <tbody>\n",
       "    <tr>\n",
       "      <th>0</th>\n",
       "      <td>0</td>\n",
       "      <td>2018-11-21 21:56:47.796</td>\n",
       "      <td>11</td>\n",
       "      <td>2018</td>\n",
       "      <td>15</td>\n",
       "      <td>paid</td>\n",
       "      <td>SOZCTXZ12AB0182364</td>\n",
       "      <td>AR5KOSW1187FB35FF4</td>\n",
       "      <td>818</td>\n",
       "      <td>Chicago-Naperville-Elgin, IL-IN-WI</td>\n",
       "      <td>\"Mozilla/5.0 (X11; Linux x86_64) AppleWebKit/5...</td>\n",
       "    </tr>\n",
       "  </tbody>\n",
       "</table>\n",
       "</div>"
      ],
      "text/plain": [
       "   songplay_id              start_time  month  year user_id level  \\\n",
       "0            0 2018-11-21 21:56:47.796     11  2018      15  paid   \n",
       "\n",
       "              song_id           artist_id  session_id  \\\n",
       "0  SOZCTXZ12AB0182364  AR5KOSW1187FB35FF4         818   \n",
       "\n",
       "                             location  \\\n",
       "0  Chicago-Naperville-Elgin, IL-IN-WI   \n",
       "\n",
       "                                          user_agent  \n",
       "0  \"Mozilla/5.0 (X11; Linux x86_64) AppleWebKit/5...  "
      ]
     },
     "execution_count": 79,
     "metadata": {},
     "output_type": "execute_result"
    }
   ],
   "source": [
    "songplays_table.toPandas()"
   ]
  },
  {
   "cell_type": "code",
   "execution_count": 16,
   "metadata": {
    "editable": true
   },
   "outputs": [],
   "source": [
    "test = df_log_data.select(df_log_data.ts).limit(10)\n"
   ]
  },
  {
   "cell_type": "code",
   "execution_count": 52,
   "metadata": {
    "editable": true
   },
   "outputs": [],
   "source": [
    "d =test.withColumn('timeStamp', from_unixtime(test.ts/1000))"
   ]
  },
  {
   "cell_type": "code",
   "execution_count": 53,
   "metadata": {
    "editable": true
   },
   "outputs": [
    {
     "name": "stdout",
     "output_type": "stream",
     "text": [
      "root\n",
      " |-- ts: long (nullable = true)\n",
      " |-- timeStamp: string (nullable = true)\n",
      "\n"
     ]
    }
   ],
   "source": [
    "d.printSchema()"
   ]
  },
  {
   "cell_type": "code",
   "execution_count": 2,
   "metadata": {
    "editable": true
   },
   "outputs": [],
   "source": [
    "import configparser\n",
    "import os\n",
    "config = configparser.ConfigParser()\n",
    "config.read_file(open('dl.cfg'))\n",
    "\n",
    "os.environ['AWS_ACCESS_KEY_ID']=config.get('AWS','AWS_ACCESS_KEY_ID')\n",
    "os.environ['AWS_SECRET_ACCESS_KEY']=config.get('AWS','AWS_SECRET_ACCESS_KEY')"
   ]
  },
  {
   "cell_type": "code",
   "execution_count": 20,
   "metadata": {
    "editable": true
   },
   "outputs": [],
   "source": [
    "df = spark.read.json(\"s3a://udacity-dend/log_data/*/*/*.json\")"
   ]
  },
  {
   "cell_type": "code",
   "execution_count": 21,
   "metadata": {
    "editable": true
   },
   "outputs": [
    {
     "data": {
      "text/plain": [
       "8056"
      ]
     },
     "execution_count": 21,
     "metadata": {},
     "output_type": "execute_result"
    }
   ],
   "source": [
    "df.count()"
   ]
  },
  {
   "cell_type": "code",
   "execution_count": 22,
   "metadata": {
    "editable": true
   },
   "outputs": [
    {
     "name": "stdout",
     "output_type": "stream",
     "text": [
      "root\n",
      " |-- artist: string (nullable = true)\n",
      " |-- auth: string (nullable = true)\n",
      " |-- firstName: string (nullable = true)\n",
      " |-- gender: string (nullable = true)\n",
      " |-- itemInSession: long (nullable = true)\n",
      " |-- lastName: string (nullable = true)\n",
      " |-- length: double (nullable = true)\n",
      " |-- level: string (nullable = true)\n",
      " |-- location: string (nullable = true)\n",
      " |-- method: string (nullable = true)\n",
      " |-- page: string (nullable = true)\n",
      " |-- registration: double (nullable = true)\n",
      " |-- sessionId: long (nullable = true)\n",
      " |-- song: string (nullable = true)\n",
      " |-- status: long (nullable = true)\n",
      " |-- ts: long (nullable = true)\n",
      " |-- userAgent: string (nullable = true)\n",
      " |-- userId: string (nullable = true)\n",
      "\n"
     ]
    }
   ],
   "source": [
    "df.printSchema()"
   ]
  },
  {
   "cell_type": "code",
   "execution_count": 17,
   "metadata": {
    "editable": true
   },
   "outputs": [
    {
     "name": "stdout",
     "output_type": "stream",
     "text": [
      "2019-04-17 12:03:13       7151 2018-11-01-events.json\n",
      "2019-04-17 12:03:13      83585 2018-11-02-events.json\n",
      "2019-04-17 12:03:13      54084 2018-11-03-events.json\n",
      "2019-04-17 12:03:13      85671 2018-11-04-events.json\n",
      "2019-04-17 12:03:13     189295 2018-11-05-events.json\n",
      "2019-04-17 12:03:13      85373 2018-11-06-events.json\n",
      "2019-04-17 12:03:13      97519 2018-11-07-events.json\n",
      "2019-04-17 12:03:13     102218 2018-11-08-events.json\n",
      "2019-04-17 12:03:13     134804 2018-11-09-events.json\n",
      "2019-04-17 12:03:13      44076 2018-11-10-events.json\n",
      "2019-04-17 12:03:13      43711 2018-11-11-events.json\n",
      "2019-04-17 12:03:13      99854 2018-11-12-events.json\n",
      "2019-04-17 12:03:13     186826 2018-11-13-events.json\n",
      "2019-04-17 12:03:13     217264 2018-11-14-events.json\n",
      "2019-04-17 12:03:13     243143 2018-11-15-events.json\n",
      "2019-04-17 12:03:13     175491 2018-11-16-events.json\n",
      "2019-04-17 12:03:13      66164 2018-11-17-events.json\n",
      "2019-04-17 12:03:13      75763 2018-11-18-events.json\n",
      "2019-04-17 12:03:13     150798 2018-11-19-events.json\n",
      "2019-04-17 12:03:13     174991 2018-11-20-events.json\n",
      "2019-04-17 12:03:13     242588 2018-11-21-events.json\n",
      "2019-04-17 12:03:13      46181 2018-11-22-events.json\n",
      "2019-04-17 12:03:13     138647 2018-11-23-events.json\n",
      "2019-04-17 12:03:13     170219 2018-11-24-events.json\n",
      "2019-04-17 12:03:13      26214 2018-11-25-events.json\n",
      "2019-04-17 12:03:13     123576 2018-11-26-events.json\n",
      "2019-04-17 12:03:13     141625 2018-11-27-events.json\n",
      "2019-04-17 12:03:13     202910 2018-11-28-events.json\n",
      "2019-04-17 12:03:13     168646 2018-11-29-events.json\n",
      "2019-04-17 12:03:13     177211 2018-11-30-events.json\n"
     ]
    }
   ],
   "source": [
    "!aws s3 ls udacity-dend/log_data/2018/11/\n"
   ]
  },
  {
   "cell_type": "code",
   "execution_count": 26,
   "metadata": {
    "editable": true
   },
   "outputs": [
    {
     "name": "stdout",
     "output_type": "stream",
     "text": [
      "2019-04-17 03:20:41        225 TRAAAAK128F9318786.json\n",
      "2019-04-17 03:20:41        284 TRAAAAV128F421A322.json\n",
      "2019-04-17 03:20:41        249 TRAAABD128F429CF47.json\n",
      "2019-04-17 03:20:41        243 TRAAACN128F9355673.json\n",
      "2019-04-17 03:20:41        289 TRAAAEA128F935A30D.json\n",
      "2019-04-17 03:20:41        231 TRAAAED128E0783FAB.json\n",
      "2019-04-17 03:20:41        228 TRAAAEM128F93347B9.json\n",
      "2019-04-17 03:20:41        248 TRAAAEW128F42930C0.json\n",
      "2019-04-17 03:20:41        225 TRAAAFD128F92F423A.json\n",
      "2019-04-17 03:20:41        250 TRAAAGR128F425B14B.json\n",
      "2019-04-17 03:20:41        256 TRAAAHD128F42635A5.json\n",
      "2019-04-17 03:20:41        271 TRAAAHJ128F931194C.json\n",
      "2019-04-17 03:20:41        263 TRAAAHZ128E0799171.json\n",
      "2019-04-17 03:20:41        254 TRAAAIR128F1480971.json\n",
      "2019-04-17 03:20:41        278 TRAAAJN128F428E437.json\n",
      "2019-04-17 03:20:41        223 TRAAAND12903CD1F1B.json\n",
      "2019-04-17 03:20:41        259 TRAAANK128F428B515.json\n",
      "2019-04-17 03:20:41        303 TRAAAOF128F429C156.json\n",
      "2019-04-17 03:20:41        265 TRAAAPK128E0786D96.json\n",
      "2019-04-17 03:20:41        232 TRAAAQN128F9353BA0.json\n",
      "2019-04-17 03:20:41        254 TRAAAQO12903CD8E1C.json\n",
      "2019-04-17 03:20:41        301 TRAAAUC128F428716F.json\n",
      "2019-04-17 03:20:41        249 TRAAAUR128F428B1FA.json\n",
      "2019-04-17 03:20:41        253 TRAAAYL128F4271A5B.json\n"
     ]
    }
   ],
   "source": []
  },
  {
   "cell_type": "markdown",
   "metadata": {
    "editable": true
   },
   "source": [
    "### Reading Data from DW"
   ]
  },
  {
   "cell_type": "code",
   "execution_count": 4,
   "metadata": {
    "editable": true
   },
   "outputs": [
    {
     "data": {
      "text/html": [
       "<div>\n",
       "<style scoped>\n",
       "    .dataframe tbody tr th:only-of-type {\n",
       "        vertical-align: middle;\n",
       "    }\n",
       "\n",
       "    .dataframe tbody tr th {\n",
       "        vertical-align: top;\n",
       "    }\n",
       "\n",
       "    .dataframe thead th {\n",
       "        text-align: right;\n",
       "    }\n",
       "</style>\n",
       "<table border=\"1\" class=\"dataframe\">\n",
       "  <thead>\n",
       "    <tr style=\"text-align: right;\">\n",
       "      <th></th>\n",
       "      <th>artist_id</th>\n",
       "      <th>artist_name</th>\n",
       "      <th>artist_location</th>\n",
       "      <th>artist_latitude</th>\n",
       "      <th>artist_longitude</th>\n",
       "    </tr>\n",
       "  </thead>\n",
       "  <tbody>\n",
       "    <tr>\n",
       "      <th>0</th>\n",
       "      <td>ARMAC4T1187FB3FA4C</td>\n",
       "      <td>The Dillinger Escape Plan</td>\n",
       "      <td>Morris Plains, NJ</td>\n",
       "      <td>40.82624</td>\n",
       "      <td>-74.47995</td>\n",
       "    </tr>\n",
       "    <tr>\n",
       "      <th>1</th>\n",
       "      <td>AROUOZZ1187B9ABE51</td>\n",
       "      <td>Willie Bobo</td>\n",
       "      <td>New York, NY [Spanish Harlem]</td>\n",
       "      <td>40.79195</td>\n",
       "      <td>-73.94512</td>\n",
       "    </tr>\n",
       "    <tr>\n",
       "      <th>2</th>\n",
       "      <td>ARI2JSK1187FB496EF</td>\n",
       "      <td>Nick Ingman;Gavyn Wright</td>\n",
       "      <td>London, England</td>\n",
       "      <td>51.50632</td>\n",
       "      <td>-0.12714</td>\n",
       "    </tr>\n",
       "    <tr>\n",
       "      <th>3</th>\n",
       "      <td>AREBBGV1187FB523D2</td>\n",
       "      <td>Mike Jones (Featuring CJ_ Mello &amp; Lil' Bran)</td>\n",
       "      <td>Houston, TX</td>\n",
       "      <td>NaN</td>\n",
       "      <td>NaN</td>\n",
       "    </tr>\n",
       "    <tr>\n",
       "      <th>4</th>\n",
       "      <td>ARD842G1187B997376</td>\n",
       "      <td>Blue Rodeo</td>\n",
       "      <td>Toronto, Ontario, Canada</td>\n",
       "      <td>43.64856</td>\n",
       "      <td>-79.38533</td>\n",
       "    </tr>\n",
       "    <tr>\n",
       "      <th>5</th>\n",
       "      <td>ARDR4AC1187FB371A1</td>\n",
       "      <td>Montserrat Caballé;Placido Domingo;Vicente Sar...</td>\n",
       "      <td></td>\n",
       "      <td>NaN</td>\n",
       "      <td>NaN</td>\n",
       "    </tr>\n",
       "    <tr>\n",
       "      <th>6</th>\n",
       "      <td>AR47JEX1187B995D81</td>\n",
       "      <td>SUE THOMPSON</td>\n",
       "      <td>Nevada, MO</td>\n",
       "      <td>37.83721</td>\n",
       "      <td>-94.35868</td>\n",
       "    </tr>\n",
       "    <tr>\n",
       "      <th>7</th>\n",
       "      <td>AR0RCMP1187FB3F427</td>\n",
       "      <td>Billie Jo Spears</td>\n",
       "      <td>Beaumont, TX</td>\n",
       "      <td>30.08615</td>\n",
       "      <td>-94.10158</td>\n",
       "    </tr>\n",
       "    <tr>\n",
       "      <th>8</th>\n",
       "      <td>ARIG6O41187B988BDD</td>\n",
       "      <td>Richard Souther</td>\n",
       "      <td>United States</td>\n",
       "      <td>37.16793</td>\n",
       "      <td>-95.84502</td>\n",
       "    </tr>\n",
       "    <tr>\n",
       "      <th>9</th>\n",
       "      <td>ARGSJW91187B9B1D6B</td>\n",
       "      <td>JennyAnyKind</td>\n",
       "      <td>North Carolina</td>\n",
       "      <td>35.21962</td>\n",
       "      <td>-80.01955</td>\n",
       "    </tr>\n",
       "  </tbody>\n",
       "</table>\n",
       "</div>"
      ],
      "text/plain": [
       "            artist_id                                        artist_name  \\\n",
       "0  ARMAC4T1187FB3FA4C                          The Dillinger Escape Plan   \n",
       "1  AROUOZZ1187B9ABE51                                        Willie Bobo   \n",
       "2  ARI2JSK1187FB496EF                           Nick Ingman;Gavyn Wright   \n",
       "3  AREBBGV1187FB523D2       Mike Jones (Featuring CJ_ Mello & Lil' Bran)   \n",
       "4  ARD842G1187B997376                                         Blue Rodeo   \n",
       "5  ARDR4AC1187FB371A1  Montserrat Caballé;Placido Domingo;Vicente Sar...   \n",
       "6  AR47JEX1187B995D81                                       SUE THOMPSON   \n",
       "7  AR0RCMP1187FB3F427                                   Billie Jo Spears   \n",
       "8  ARIG6O41187B988BDD                                    Richard Souther   \n",
       "9  ARGSJW91187B9B1D6B                                       JennyAnyKind   \n",
       "\n",
       "                 artist_location  artist_latitude  artist_longitude  \n",
       "0              Morris Plains, NJ         40.82624         -74.47995  \n",
       "1  New York, NY [Spanish Harlem]         40.79195         -73.94512  \n",
       "2                London, England         51.50632          -0.12714  \n",
       "3                    Houston, TX              NaN               NaN  \n",
       "4       Toronto, Ontario, Canada         43.64856         -79.38533  \n",
       "5                                             NaN               NaN  \n",
       "6                     Nevada, MO         37.83721         -94.35868  \n",
       "7                   Beaumont, TX         30.08615         -94.10158  \n",
       "8                  United States         37.16793         -95.84502  \n",
       "9                 North Carolina         35.21962         -80.01955  "
      ]
     },
     "execution_count": 4,
     "metadata": {},
     "output_type": "execute_result"
    }
   ],
   "source": [
    "artist  = spark.read.parquet('./data/dw/artists/*.parquet')\n",
    "artist.limit(10).toPandas()"
   ]
  },
  {
   "cell_type": "code",
   "execution_count": 8,
   "metadata": {
    "editable": true
   },
   "outputs": [
    {
     "data": {
      "text/html": [
       "<div>\n",
       "<style scoped>\n",
       "    .dataframe tbody tr th:only-of-type {\n",
       "        vertical-align: middle;\n",
       "    }\n",
       "\n",
       "    .dataframe tbody tr th {\n",
       "        vertical-align: top;\n",
       "    }\n",
       "\n",
       "    .dataframe thead th {\n",
       "        text-align: right;\n",
       "    }\n",
       "</style>\n",
       "<table border=\"1\" class=\"dataframe\">\n",
       "  <thead>\n",
       "    <tr style=\"text-align: right;\">\n",
       "      <th></th>\n",
       "      <th>songplay_id</th>\n",
       "      <th>start_time</th>\n",
       "      <th>user_id</th>\n",
       "      <th>level</th>\n",
       "      <th>song_id</th>\n",
       "      <th>artist_id</th>\n",
       "      <th>session_id</th>\n",
       "      <th>location</th>\n",
       "      <th>user_agent</th>\n",
       "    </tr>\n",
       "  </thead>\n",
       "  <tbody>\n",
       "    <tr>\n",
       "      <th>0</th>\n",
       "      <td>0</td>\n",
       "      <td>2018-11-21 21:56:47.796</td>\n",
       "      <td>15</td>\n",
       "      <td>paid</td>\n",
       "      <td>SOZCTXZ12AB0182364</td>\n",
       "      <td>AR5KOSW1187FB35FF4</td>\n",
       "      <td>818</td>\n",
       "      <td>Chicago-Naperville-Elgin, IL-IN-WI</td>\n",
       "      <td>\"Mozilla/5.0 (X11; Linux x86_64) AppleWebKit/5...</td>\n",
       "    </tr>\n",
       "  </tbody>\n",
       "</table>\n",
       "</div>"
      ],
      "text/plain": [
       "   songplay_id              start_time user_id level             song_id  \\\n",
       "0            0 2018-11-21 21:56:47.796      15  paid  SOZCTXZ12AB0182364   \n",
       "\n",
       "            artist_id  session_id                            location  \\\n",
       "0  AR5KOSW1187FB35FF4         818  Chicago-Naperville-Elgin, IL-IN-WI   \n",
       "\n",
       "                                          user_agent  \n",
       "0  \"Mozilla/5.0 (X11; Linux x86_64) AppleWebKit/5...  "
      ]
     },
     "execution_count": 8,
     "metadata": {},
     "output_type": "execute_result"
    }
   ],
   "source": [
    "songplays  = spark.read.parquet('./data/dw/songplays_table/year=*/month=*/*.parquet')\n",
    "songplays.limit(10).toPandas()"
   ]
  },
  {
   "cell_type": "code",
   "execution_count": 10,
   "metadata": {
    "editable": true
   },
   "outputs": [
    {
     "data": {
      "text/html": [
       "<div>\n",
       "<style scoped>\n",
       "    .dataframe tbody tr th:only-of-type {\n",
       "        vertical-align: middle;\n",
       "    }\n",
       "\n",
       "    .dataframe tbody tr th {\n",
       "        vertical-align: top;\n",
       "    }\n",
       "\n",
       "    .dataframe thead th {\n",
       "        text-align: right;\n",
       "    }\n",
       "</style>\n",
       "<table border=\"1\" class=\"dataframe\">\n",
       "  <thead>\n",
       "    <tr style=\"text-align: right;\">\n",
       "      <th></th>\n",
       "      <th>song_id</th>\n",
       "      <th>title</th>\n",
       "      <th>duration</th>\n",
       "    </tr>\n",
       "  </thead>\n",
       "  <tbody>\n",
       "    <tr>\n",
       "      <th>0</th>\n",
       "      <td>SOAOIBZ12AB01815BE</td>\n",
       "      <td>I Hold Your Hand In Mine [Live At Royal Albert...</td>\n",
       "      <td>43.36281</td>\n",
       "    </tr>\n",
       "    <tr>\n",
       "      <th>1</th>\n",
       "      <td>SONYPOM12A8C13B2D7</td>\n",
       "      <td>I Think My Wife Is Running Around On Me (Taco ...</td>\n",
       "      <td>186.48771</td>\n",
       "    </tr>\n",
       "    <tr>\n",
       "      <th>2</th>\n",
       "      <td>SODREIN12A58A7F2E5</td>\n",
       "      <td>A Whiter Shade Of Pale (Live @ Fillmore West)</td>\n",
       "      <td>326.00771</td>\n",
       "    </tr>\n",
       "    <tr>\n",
       "      <th>3</th>\n",
       "      <td>SOYMRWW12A6D4FAB14</td>\n",
       "      <td>The Moon And I (Ordinary Day Album Version)</td>\n",
       "      <td>267.70240</td>\n",
       "    </tr>\n",
       "    <tr>\n",
       "      <th>4</th>\n",
       "      <td>SOWQTQZ12A58A7B63E</td>\n",
       "      <td>Streets On Fire (Explicit Album Version)</td>\n",
       "      <td>279.97995</td>\n",
       "    </tr>\n",
       "    <tr>\n",
       "      <th>5</th>\n",
       "      <td>SOUDSGM12AC9618304</td>\n",
       "      <td>Insatiable (Instrumental Version)</td>\n",
       "      <td>266.39628</td>\n",
       "    </tr>\n",
       "    <tr>\n",
       "      <th>6</th>\n",
       "      <td>SOPEGZN12AB0181B3D</td>\n",
       "      <td>Get Your Head Stuck On Your Neck</td>\n",
       "      <td>45.66159</td>\n",
       "    </tr>\n",
       "    <tr>\n",
       "      <th>7</th>\n",
       "      <td>SOBBUGU12A8C13E95D</td>\n",
       "      <td>Setting Fire to Sleeping Giants</td>\n",
       "      <td>207.77751</td>\n",
       "    </tr>\n",
       "    <tr>\n",
       "      <th>8</th>\n",
       "      <td>SOBAYLL12A8C138AF9</td>\n",
       "      <td>Sono andati? Fingevo di dormire</td>\n",
       "      <td>511.16363</td>\n",
       "    </tr>\n",
       "    <tr>\n",
       "      <th>9</th>\n",
       "      <td>SOOLYAZ12A6701F4A6</td>\n",
       "      <td>Laws Patrolling (Album Version)</td>\n",
       "      <td>173.66159</td>\n",
       "    </tr>\n",
       "  </tbody>\n",
       "</table>\n",
       "</div>"
      ],
      "text/plain": [
       "              song_id                                              title  \\\n",
       "0  SOAOIBZ12AB01815BE  I Hold Your Hand In Mine [Live At Royal Albert...   \n",
       "1  SONYPOM12A8C13B2D7  I Think My Wife Is Running Around On Me (Taco ...   \n",
       "2  SODREIN12A58A7F2E5      A Whiter Shade Of Pale (Live @ Fillmore West)   \n",
       "3  SOYMRWW12A6D4FAB14        The Moon And I (Ordinary Day Album Version)   \n",
       "4  SOWQTQZ12A58A7B63E           Streets On Fire (Explicit Album Version)   \n",
       "5  SOUDSGM12AC9618304                  Insatiable (Instrumental Version)   \n",
       "6  SOPEGZN12AB0181B3D                   Get Your Head Stuck On Your Neck   \n",
       "7  SOBBUGU12A8C13E95D                    Setting Fire to Sleeping Giants   \n",
       "8  SOBAYLL12A8C138AF9                    Sono andati? Fingevo di dormire   \n",
       "9  SOOLYAZ12A6701F4A6                    Laws Patrolling (Album Version)   \n",
       "\n",
       "    duration  \n",
       "0   43.36281  \n",
       "1  186.48771  \n",
       "2  326.00771  \n",
       "3  267.70240  \n",
       "4  279.97995  \n",
       "5  266.39628  \n",
       "6   45.66159  \n",
       "7  207.77751  \n",
       "8  511.16363  \n",
       "9  173.66159  "
      ]
     },
     "execution_count": 10,
     "metadata": {},
     "output_type": "execute_result"
    }
   ],
   "source": [
    "songs_table  = spark.read.parquet('./data/dw/songs_table/year=*/artist_id=*/*.parquet')\n",
    "songs_table.limit(10).toPandas()"
   ]
  },
  {
   "cell_type": "code",
   "execution_count": 14,
   "metadata": {
    "editable": true
   },
   "outputs": [
    {
     "data": {
      "text/html": [
       "<div>\n",
       "<style scoped>\n",
       "    .dataframe tbody tr th:only-of-type {\n",
       "        vertical-align: middle;\n",
       "    }\n",
       "\n",
       "    .dataframe tbody tr th {\n",
       "        vertical-align: top;\n",
       "    }\n",
       "\n",
       "    .dataframe thead th {\n",
       "        text-align: right;\n",
       "    }\n",
       "</style>\n",
       "<table border=\"1\" class=\"dataframe\">\n",
       "  <thead>\n",
       "    <tr style=\"text-align: right;\">\n",
       "      <th></th>\n",
       "      <th>start_time</th>\n",
       "      <th>hour</th>\n",
       "      <th>day</th>\n",
       "      <th>week</th>\n",
       "      <th>weekday</th>\n",
       "    </tr>\n",
       "  </thead>\n",
       "  <tbody>\n",
       "    <tr>\n",
       "      <th>0</th>\n",
       "      <td>2018-11-15 00:30:26.796</td>\n",
       "      <td>0</td>\n",
       "      <td>15</td>\n",
       "      <td>46</td>\n",
       "      <td>5</td>\n",
       "    </tr>\n",
       "    <tr>\n",
       "      <th>1</th>\n",
       "      <td>2018-11-15 00:41:21.796</td>\n",
       "      <td>0</td>\n",
       "      <td>15</td>\n",
       "      <td>46</td>\n",
       "      <td>5</td>\n",
       "    </tr>\n",
       "    <tr>\n",
       "      <th>2</th>\n",
       "      <td>2018-11-15 00:45:41.796</td>\n",
       "      <td>0</td>\n",
       "      <td>15</td>\n",
       "      <td>46</td>\n",
       "      <td>5</td>\n",
       "    </tr>\n",
       "    <tr>\n",
       "      <th>3</th>\n",
       "      <td>2018-11-15 03:44:09.796</td>\n",
       "      <td>3</td>\n",
       "      <td>15</td>\n",
       "      <td>46</td>\n",
       "      <td>5</td>\n",
       "    </tr>\n",
       "    <tr>\n",
       "      <th>4</th>\n",
       "      <td>2018-11-15 05:48:55.796</td>\n",
       "      <td>5</td>\n",
       "      <td>15</td>\n",
       "      <td>46</td>\n",
       "      <td>5</td>\n",
       "    </tr>\n",
       "    <tr>\n",
       "      <th>5</th>\n",
       "      <td>2018-11-15 05:53:44.796</td>\n",
       "      <td>5</td>\n",
       "      <td>15</td>\n",
       "      <td>46</td>\n",
       "      <td>5</td>\n",
       "    </tr>\n",
       "    <tr>\n",
       "      <th>6</th>\n",
       "      <td>2018-11-15 05:55:56.796</td>\n",
       "      <td>5</td>\n",
       "      <td>15</td>\n",
       "      <td>46</td>\n",
       "      <td>5</td>\n",
       "    </tr>\n",
       "    <tr>\n",
       "      <th>7</th>\n",
       "      <td>2018-11-15 06:01:02.796</td>\n",
       "      <td>6</td>\n",
       "      <td>15</td>\n",
       "      <td>46</td>\n",
       "      <td>5</td>\n",
       "    </tr>\n",
       "    <tr>\n",
       "      <th>8</th>\n",
       "      <td>2018-11-15 06:07:37.796</td>\n",
       "      <td>6</td>\n",
       "      <td>15</td>\n",
       "      <td>46</td>\n",
       "      <td>5</td>\n",
       "    </tr>\n",
       "    <tr>\n",
       "      <th>9</th>\n",
       "      <td>2018-11-15 06:10:33.796</td>\n",
       "      <td>6</td>\n",
       "      <td>15</td>\n",
       "      <td>46</td>\n",
       "      <td>5</td>\n",
       "    </tr>\n",
       "  </tbody>\n",
       "</table>\n",
       "</div>"
      ],
      "text/plain": [
       "               start_time  hour  day  week  weekday\n",
       "0 2018-11-15 00:30:26.796     0   15    46        5\n",
       "1 2018-11-15 00:41:21.796     0   15    46        5\n",
       "2 2018-11-15 00:45:41.796     0   15    46        5\n",
       "3 2018-11-15 03:44:09.796     3   15    46        5\n",
       "4 2018-11-15 05:48:55.796     5   15    46        5\n",
       "5 2018-11-15 05:53:44.796     5   15    46        5\n",
       "6 2018-11-15 05:55:56.796     5   15    46        5\n",
       "7 2018-11-15 06:01:02.796     6   15    46        5\n",
       "8 2018-11-15 06:07:37.796     6   15    46        5\n",
       "9 2018-11-15 06:10:33.796     6   15    46        5"
      ]
     },
     "execution_count": 14,
     "metadata": {},
     "output_type": "execute_result"
    }
   ],
   "source": [
    "time_table = spark.read.parquet(\"./data/dw/time_table/year=*/month=*/*.parquet\")\n",
    "time_table.limit(10).toPandas()"
   ]
  },
  {
   "cell_type": "code",
   "execution_count": 15,
   "metadata": {
    "editable": true
   },
   "outputs": [
    {
     "data": {
      "text/html": [
       "<div>\n",
       "<style scoped>\n",
       "    .dataframe tbody tr th:only-of-type {\n",
       "        vertical-align: middle;\n",
       "    }\n",
       "\n",
       "    .dataframe tbody tr th {\n",
       "        vertical-align: top;\n",
       "    }\n",
       "\n",
       "    .dataframe thead th {\n",
       "        text-align: right;\n",
       "    }\n",
       "</style>\n",
       "<table border=\"1\" class=\"dataframe\">\n",
       "  <thead>\n",
       "    <tr style=\"text-align: right;\">\n",
       "      <th></th>\n",
       "      <th>user_id</th>\n",
       "      <th>first_name</th>\n",
       "      <th>last_name</th>\n",
       "      <th>gender</th>\n",
       "      <th>level</th>\n",
       "    </tr>\n",
       "  </thead>\n",
       "  <tbody>\n",
       "    <tr>\n",
       "      <th>0</th>\n",
       "      <td>88</td>\n",
       "      <td>Mohammad</td>\n",
       "      <td>Rodriguez</td>\n",
       "      <td>M</td>\n",
       "      <td>free</td>\n",
       "    </tr>\n",
       "    <tr>\n",
       "      <th>1</th>\n",
       "      <td>88</td>\n",
       "      <td>Mohammad</td>\n",
       "      <td>Rodriguez</td>\n",
       "      <td>M</td>\n",
       "      <td>paid</td>\n",
       "    </tr>\n",
       "    <tr>\n",
       "      <th>2</th>\n",
       "      <td>53</td>\n",
       "      <td>Celeste</td>\n",
       "      <td>Williams</td>\n",
       "      <td>F</td>\n",
       "      <td>free</td>\n",
       "    </tr>\n",
       "    <tr>\n",
       "      <th>3</th>\n",
       "      <td>11</td>\n",
       "      <td>Christian</td>\n",
       "      <td>Porter</td>\n",
       "      <td>F</td>\n",
       "      <td>free</td>\n",
       "    </tr>\n",
       "    <tr>\n",
       "      <th>4</th>\n",
       "      <td>69</td>\n",
       "      <td>Anabelle</td>\n",
       "      <td>Simpson</td>\n",
       "      <td>F</td>\n",
       "      <td>free</td>\n",
       "    </tr>\n",
       "    <tr>\n",
       "      <th>5</th>\n",
       "      <td>77</td>\n",
       "      <td>Magdalene</td>\n",
       "      <td>Herman</td>\n",
       "      <td>F</td>\n",
       "      <td>free</td>\n",
       "    </tr>\n",
       "    <tr>\n",
       "      <th>6</th>\n",
       "      <td>75</td>\n",
       "      <td>Joseph</td>\n",
       "      <td>Gutierrez</td>\n",
       "      <td>M</td>\n",
       "      <td>free</td>\n",
       "    </tr>\n",
       "    <tr>\n",
       "      <th>7</th>\n",
       "      <td>61</td>\n",
       "      <td>Samuel</td>\n",
       "      <td>Gonzalez</td>\n",
       "      <td>M</td>\n",
       "      <td>free</td>\n",
       "    </tr>\n",
       "    <tr>\n",
       "      <th>8</th>\n",
       "      <td>89</td>\n",
       "      <td>Kynnedi</td>\n",
       "      <td>Sanchez</td>\n",
       "      <td>F</td>\n",
       "      <td>free</td>\n",
       "    </tr>\n",
       "    <tr>\n",
       "      <th>9</th>\n",
       "      <td>45</td>\n",
       "      <td>Dominick</td>\n",
       "      <td>Norris</td>\n",
       "      <td>M</td>\n",
       "      <td>free</td>\n",
       "    </tr>\n",
       "  </tbody>\n",
       "</table>\n",
       "</div>"
      ],
      "text/plain": [
       "  user_id first_name  last_name gender level\n",
       "0      88   Mohammad  Rodriguez      M  free\n",
       "1      88   Mohammad  Rodriguez      M  paid\n",
       "2      53    Celeste   Williams      F  free\n",
       "3      11  Christian     Porter      F  free\n",
       "4      69   Anabelle    Simpson      F  free\n",
       "5      77  Magdalene     Herman      F  free\n",
       "6      75     Joseph  Gutierrez      M  free\n",
       "7      61     Samuel   Gonzalez      M  free\n",
       "8      89    Kynnedi    Sanchez      F  free\n",
       "9      45   Dominick     Norris      M  free"
      ]
     },
     "execution_count": 15,
     "metadata": {},
     "output_type": "execute_result"
    }
   ],
   "source": [
    "users_table = spark.read.parquet(\"./data/dw/users_table/*.parquet\")\n",
    "users_table.limit(10).toPandas()"
   ]
  },
  {
   "cell_type": "code",
   "execution_count": 16,
   "metadata": {
    "editable": true
   },
   "outputs": [
    {
     "data": {
      "text/plain": [
       "104"
      ]
     },
     "execution_count": 16,
     "metadata": {},
     "output_type": "execute_result"
    }
   ],
   "source": [
    "users_table.count()"
   ]
  },
  {
   "cell_type": "code",
   "execution_count": null,
   "metadata": {
    "editable": true
   },
   "outputs": [],
   "source": []
  }
 ],
 "metadata": {
  "kernelspec": {
   "display_name": "Python 3",
   "language": "python",
   "name": "python3"
  },
  "language_info": {
   "codemirror_mode": {
    "name": "ipython",
    "version": 3
   },
   "file_extension": ".py",
   "mimetype": "text/x-python",
   "name": "python",
   "nbconvert_exporter": "python",
   "pygments_lexer": "ipython3",
   "version": "3.6.3"
  }
 },
 "nbformat": 4,
 "nbformat_minor": 4
}
