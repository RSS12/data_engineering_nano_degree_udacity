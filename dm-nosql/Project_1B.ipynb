{
 "cells": [
  {
   "cell_type": "markdown",
   "metadata": {
    "editable": true
   },
   "source": [
    "# Part I. ETL Pipeline for Pre-Processing the Files"
   ]
  },
  {
   "cell_type": "markdown",
   "metadata": {
    "editable": true
   },
   "source": [
    "#### Import Python packages "
   ]
  },
  {
   "cell_type": "code",
   "execution_count": 21,
   "metadata": {
    "editable": true
   },
   "outputs": [],
   "source": [
    "# Import Python packages \n",
    "import pandas as pd\n",
    "import cassandra\n",
    "import re\n",
    "import os\n",
    "import glob\n",
    "import numpy as np\n",
    "import json\n",
    "import csv\n"
   ]
  },
  {
   "cell_type": "markdown",
   "metadata": {
    "editable": true
   },
   "source": [
    "#### Creating list of filepaths to process original event csv data files"
   ]
  },
  {
   "cell_type": "code",
   "execution_count": 2,
   "metadata": {
    "editable": true
   },
   "outputs": [],
   "source": [
    "\n",
    "def get_files(file_path:str):\n",
    "    \"\"\"get all csv files from file_path  \"\"\"\n",
    "    all_files = []\n",
    "    for root, dirs, files in os.walk(file_path):\n",
    "        files = glob.glob(os.path.join(root,'*.csv'))\n",
    "        for f in files:\n",
    "            all_files.append(os.path.abspath(f))\n",
    "\n",
    "    return all_files"
   ]
  },
  {
   "cell_type": "code",
   "execution_count": 3,
   "metadata": {
    "editable": true
   },
   "outputs": [],
   "source": [
    "#List of all csv files\n",
    "all_files = get_files('./event_data')"
   ]
  },
  {
   "cell_type": "markdown",
   "metadata": {
    "editable": true
   },
   "source": [
    "#### Processing the files to create the data file csv that will be used for Apache Casssandra tables"
   ]
  },
  {
   "cell_type": "code",
   "execution_count": 4,
   "metadata": {
    "editable": true
   },
   "outputs": [],
   "source": [
    "# initiating an empty list of rows that will be generated from each file\n",
    "full_data_rows_list = [] \n",
    "    \n",
    "# for every filepath in the file path list \n",
    "for f in all_files:\n",
    "\n",
    "# reading csv file \n",
    "    with open(f, 'r', encoding = 'utf8', newline='') as csvfile: \n",
    "        # creating a csv reader object \n",
    "        csvreader = csv.reader(csvfile) \n",
    "        next(csvreader)\n",
    "        \n",
    "# extracting each data row one by one and append it        \n",
    "        for line in csvreader:\n",
    "            #print(line)\n",
    "            full_data_rows_list.append(line) \n",
    "            \n",
    "\n",
    "#print(len(full_data_rows_list))\n",
    "\n",
    "\n",
    "# creating a smaller event data csv file called event_datafile_full csv that will be used to insert data into the \\\n",
    "# Apache Cassandra tables\n",
    "\n",
    "csv.register_dialect('myDialect', quoting=csv.QUOTE_ALL, skipinitialspace=True)\n",
    "\n",
    "with open('event_datafile_new.csv', 'w', encoding = 'utf8', newline='') as f:\n",
    "    writer = csv.writer(f, dialect='myDialect')\n",
    "    writer.writerow(['artist','firstName','gender','itemInSession','lastName','length',\\\n",
    "                'level','location','sessionId','song','userId'])\n",
    "    for row in full_data_rows_list:\n",
    "        if (row[0] == ''):\n",
    "            continue\n",
    "        writer.writerow((row[0], row[2], row[3], row[4], row[5], row[6], row[7], row[8], row[12], row[13], row[16]))\n"
   ]
  },
  {
   "cell_type": "code",
   "execution_count": 5,
   "metadata": {
    "editable": true
   },
   "outputs": [],
   "source": [
    "# initiating an empty list of rows that will be generated from each file\n",
    "full_data_rows_list = [] \n",
    "    \n",
    "# for every filepath in the file path list \n",
    "for f in all_files:\n",
    "\n",
    "# reading csv file \n",
    "    with open(f, 'r', encoding = 'utf8', newline='') as csvfile: \n",
    "        # creating a csv reader object \n",
    "        csvreader = csv.reader(csvfile) \n",
    "        next(csvreader)\n",
    "        \n",
    " # extracting each data row one by one and append it        \n",
    "        for line in csvreader:\n",
    "            #print(line)\n",
    "            full_data_rows_list.append(line) \n",
    "            \n",
    "#print(len(full_data_rows_list))"
   ]
  },
  {
   "cell_type": "code",
   "execution_count": 6,
   "metadata": {
    "editable": true
   },
   "outputs": [
    {
     "name": "stdout",
     "output_type": "stream",
     "text": [
      "6821\n"
     ]
    }
   ],
   "source": [
    "# checking the number of rows in csv file\n",
    "with open('event_datafile_new.csv', 'r', encoding = 'utf8') as f:\n",
    "    print(sum(1 for line in f))"
   ]
  },
  {
   "cell_type": "markdown",
   "metadata": {
    "editable": true
   },
   "source": [
    "#### Creating a Cluster"
   ]
  },
  {
   "cell_type": "code",
   "execution_count": 30,
   "metadata": {
    "editable": true
   },
   "outputs": [],
   "source": [
    "# This should make a connection to a Cassandra instance your local machine \n",
    "# (127.0.0.1)\n",
    "\n",
    "from cassandra.cluster import Cluster\n",
    "cluster = Cluster(['127.0.0.1'])\n",
    "\n",
    "# To establish connection and begin executing queries, need a session\n",
    "session = cluster.connect()"
   ]
  },
  {
   "cell_type": "markdown",
   "metadata": {
    "editable": true
   },
   "source": [
    "#### Create Keyspace"
   ]
  },
  {
   "cell_type": "code",
   "execution_count": 31,
   "metadata": {
    "editable": true
   },
   "outputs": [],
   "source": [
    "# TO-DO: Create a Keyspace \n",
    "try:\n",
    "    session.execute(\"\"\"\n",
    "    CREATE KEYSPACE IF NOT EXISTS udacity \n",
    "    WITH REPLICATION = \n",
    "    { 'class' : 'SimpleStrategy', 'replication_factor' : 1 }\"\"\"\n",
    ")\n",
    "\n",
    "except Exception as e:\n",
    "    print(e)\n",
    "                    \n",
    "\n",
    "    \n",
    "\n",
    "\n"
   ]
  },
  {
   "cell_type": "markdown",
   "metadata": {
    "editable": true
   },
   "source": [
    "#### Set Keyspace"
   ]
  },
  {
   "cell_type": "code",
   "execution_count": 32,
   "metadata": {
    "editable": true
   },
   "outputs": [],
   "source": [
    "try:\n",
    "    session.set_keyspace('udacity')\n",
    "except Exception as e:\n",
    "    print(e)"
   ]
  },
  {
   "cell_type": "markdown",
   "metadata": {
    "editable": true
   },
   "source": [
    "## Create queries to ask the following three questions of the data\n",
    "\n",
    "### 1. Give me the artist, song title and song's length in the music app history that was heard during  sessionId = 338, and itemInSession  = 4\n",
    "\n",
    "\n",
    "### 2. Give me only the following: name of artist, song (sorted by itemInSession) and user (first and last name) for userid = 10, sessionid = 182\n",
    "    \n",
    "\n",
    "### 3. Give me every user name (first and last) in my music app history who listened to the song 'All Hands Against His Own'\n",
    "\n",
    "\n"
   ]
  },
  {
   "cell_type": "code",
   "execution_count": 33,
   "metadata": {
    "editable": true
   },
   "outputs": [],
   "source": [
    "## query1:\n",
    "## The following table is designed to answer queries where data is partioned based on session_id (which is partition key)\\\n",
    "## sorted by item_in_session(cluster key).\\\n",
    "## For quering this table we always require session_id in where clause.\n",
    "\n",
    "query1 = \"CREATE TABLE IF NOT EXISTS song_details\"\n",
    "\n",
    "query1 = query1 + (\"\"\" (session_id INT, item_in_session INT, artist TEXT, song_title TEXT,\n",
    "                                        song_length FLOAT, PRIMARY KEY (session_id, item_in_session)\n",
    "                )\"\"\")\n",
    "\n",
    "try:\n",
    "    session.execute(query1)\n",
    "\n",
    "except Exception as e:\n",
    "    print(e)\n",
    "    \n",
    "select_query1 = \"\"\" SELECT artist, song_title, song_length FROM song_details\n",
    "                    WHERE session_id = %s \n",
    "                    AND item_in_session = %s \n",
    "                    \"\"\"    \n",
    "\n",
    "                    "
   ]
  },
  {
   "cell_type": "code",
   "execution_count": 34,
   "metadata": {
    "editable": true
   },
   "outputs": [],
   "source": [
    "# loading Data into table: song_details\n",
    "\n",
    "file = 'event_datafile_new.csv'\n",
    "\n",
    "with open(file, encoding = 'utf8') as f:\n",
    "    csvreader = csv.reader(f)\n",
    "    next(csvreader) # skip header\n",
    "    \n",
    "    for line in csvreader:## INSERT statement\n",
    "\n",
    "        query1_insert = \"INSERT INTO song_details(session_id, item_in_session, artist, song_title, song_length)\"\n",
    "        query1_insert = query1_insert + \"VALUES (%s, %s, %s, %s, %s)\"\n",
    "        session.execute(query1_insert, (int(line[8]), int(line[3]), line[0], line[9], float(line[5])))"
   ]
  },
  {
   "cell_type": "markdown",
   "metadata": {
    "editable": true
   },
   "source": [
    "#### SELECT to verify that the data have been inserted into each table"
   ]
  },
  {
   "cell_type": "code",
   "execution_count": 41,
   "metadata": {
    "editable": true,
    "scrolled": true
   },
   "outputs": [
    {
     "data": {
      "text/html": [
       "<div>\n",
       "<style scoped>\n",
       "    .dataframe tbody tr th:only-of-type {\n",
       "        vertical-align: middle;\n",
       "    }\n",
       "\n",
       "    .dataframe tbody tr th {\n",
       "        vertical-align: top;\n",
       "    }\n",
       "\n",
       "    .dataframe thead th {\n",
       "        text-align: right;\n",
       "    }\n",
       "</style>\n",
       "<table border=\"1\" class=\"dataframe\">\n",
       "  <thead>\n",
       "    <tr style=\"text-align: right;\">\n",
       "      <th></th>\n",
       "      <th>artist</th>\n",
       "      <th>song_title</th>\n",
       "      <th>song_length</th>\n",
       "    </tr>\n",
       "  </thead>\n",
       "  <tbody>\n",
       "    <tr>\n",
       "      <th>0</th>\n",
       "      <td>Faithless</td>\n",
       "      <td>Music Matters (Mark Knight Dub)</td>\n",
       "      <td>495.307312</td>\n",
       "    </tr>\n",
       "  </tbody>\n",
       "</table>\n",
       "</div>"
      ],
      "text/plain": [
       "      artist                       song_title  song_length\n",
       "0  Faithless  Music Matters (Mark Knight Dub)   495.307312"
      ]
     },
     "execution_count": 41,
     "metadata": {},
     "output_type": "execute_result"
    }
   ],
   "source": [
    "try:\n",
    "    rows = session.execute(select_query1,(338,4))\n",
    "    df1 = pd.DataFrame(rows._current_rows)\n",
    "except Exception as e:\n",
    "    print(e)\n",
    "\n",
    "df1"
   ]
  },
  {
   "cell_type": "code",
   "execution_count": 42,
   "metadata": {
    "editable": true
   },
   "outputs": [],
   "source": [
    "## query2:\n",
    "## The following table is designed to  answer queries where data is partioned based on composite  partition key \\\n",
    "## (user_id,session_id) and item_in_session as cluster/sort key.\n",
    "## For quering this table, we will always require user_id, session_id in where clause \\\n",
    "## and item_in_session(cluster key) is optional.\n",
    "\n",
    "\n",
    "\n",
    "query2 = \"CREATE TABLE IF NOT EXISTS song_details_sorted\"\n",
    "\n",
    "query2 = query2 + (\"\"\" (user_id INT,\n",
    "                        session_id INT,\n",
    "                        item_in_session INT,\n",
    "                        artist TEXT,\n",
    "                        song_title TEXT,\n",
    "                        user_fname TEXT,\n",
    "                        user_lname TEXT,\n",
    "                        PRIMARY KEY ((user_id,session_id), item_in_session)\n",
    "                                       ) \"\"\")\n",
    "\n",
    "try:\n",
    "    session.execute(query2)\n",
    "\n",
    "except Exception as e:\n",
    "    print(e)\n",
    "\n",
    "\n",
    "\n",
    "select_query2 = \"\"\" SELECT \n",
    "                        artist,\n",
    "                        song_title,\n",
    "                        item_in_session,\n",
    "                        user_fname,\n",
    "                        user_lname\n",
    "                        \n",
    "                        FROM song_details_sorted\n",
    "                        WHERE user_id = %s \n",
    "                        AND \n",
    "                        session_id = %s \n",
    "                    \"\"\"    \n",
    "\n",
    "\n"
   ]
  },
  {
   "cell_type": "code",
   "execution_count": 43,
   "metadata": {
    "editable": true
   },
   "outputs": [],
   "source": [
    "# loading Data into table: song_details_sorted\n",
    "\n",
    "file = 'event_datafile_new.csv'\n",
    "with open(file, encoding = 'utf8') as f:\n",
    "    csvreader = csv.reader(f)\n",
    "    next(csvreader) # skip header\n",
    "    \n",
    "    for line in csvreader:## INSERT statement\n",
    "        \n",
    "        insert_query2 = \"\"\"INSERT INTO song_details_sorted ( user_id\n",
    "                                                    ,session_id\n",
    "                                                    ,item_in_session\n",
    "                                                    ,artist\n",
    "                                                    ,song_title\n",
    "                                                    ,user_fname\n",
    "                                                    ,user_lname\n",
    "                                                    \n",
    "                                                    )\"\"\"\n",
    "        \n",
    "        insert_query2 = insert_query2 + \"VALUES (%s, %s, %s, %s, %s, %s, %s)\"\n",
    "\n",
    "        session.execute(insert_query2, (int(line[10]), int(line[8]), int(line[3]), line[0], line[9],line[1],line[4]))                   \n",
    "                    "
   ]
  },
  {
   "cell_type": "code",
   "execution_count": 44,
   "metadata": {
    "editable": true
   },
   "outputs": [
    {
     "data": {
      "text/html": [
       "<div>\n",
       "<style scoped>\n",
       "    .dataframe tbody tr th:only-of-type {\n",
       "        vertical-align: middle;\n",
       "    }\n",
       "\n",
       "    .dataframe tbody tr th {\n",
       "        vertical-align: top;\n",
       "    }\n",
       "\n",
       "    .dataframe thead th {\n",
       "        text-align: right;\n",
       "    }\n",
       "</style>\n",
       "<table border=\"1\" class=\"dataframe\">\n",
       "  <thead>\n",
       "    <tr style=\"text-align: right;\">\n",
       "      <th></th>\n",
       "      <th>artist</th>\n",
       "      <th>song_title</th>\n",
       "      <th>item_in_session</th>\n",
       "      <th>user_fname</th>\n",
       "      <th>user_lname</th>\n",
       "    </tr>\n",
       "  </thead>\n",
       "  <tbody>\n",
       "    <tr>\n",
       "      <th>0</th>\n",
       "      <td>Down To The Bone</td>\n",
       "      <td>Keep On Keepin' On</td>\n",
       "      <td>0</td>\n",
       "      <td>Sylvie</td>\n",
       "      <td>Cruz</td>\n",
       "    </tr>\n",
       "    <tr>\n",
       "      <th>1</th>\n",
       "      <td>Three Drives</td>\n",
       "      <td>Greece 2000</td>\n",
       "      <td>1</td>\n",
       "      <td>Sylvie</td>\n",
       "      <td>Cruz</td>\n",
       "    </tr>\n",
       "    <tr>\n",
       "      <th>2</th>\n",
       "      <td>Sebastien Tellier</td>\n",
       "      <td>Kilometer</td>\n",
       "      <td>2</td>\n",
       "      <td>Sylvie</td>\n",
       "      <td>Cruz</td>\n",
       "    </tr>\n",
       "    <tr>\n",
       "      <th>3</th>\n",
       "      <td>Lonnie Gordon</td>\n",
       "      <td>Catch You Baby (Steve Pitron &amp; Max Sanna Radio...</td>\n",
       "      <td>3</td>\n",
       "      <td>Sylvie</td>\n",
       "      <td>Cruz</td>\n",
       "    </tr>\n",
       "  </tbody>\n",
       "</table>\n",
       "</div>"
      ],
      "text/plain": [
       "              artist                                         song_title  \\\n",
       "0   Down To The Bone                                 Keep On Keepin' On   \n",
       "1       Three Drives                                        Greece 2000   \n",
       "2  Sebastien Tellier                                          Kilometer   \n",
       "3      Lonnie Gordon  Catch You Baby (Steve Pitron & Max Sanna Radio...   \n",
       "\n",
       "   item_in_session user_fname user_lname  \n",
       "0                0     Sylvie       Cruz  \n",
       "1                1     Sylvie       Cruz  \n",
       "2                2     Sylvie       Cruz  \n",
       "3                3     Sylvie       Cruz  "
      ]
     },
     "execution_count": 44,
     "metadata": {},
     "output_type": "execute_result"
    }
   ],
   "source": [
    "# Doing select statement on table: song_details_sorted\n",
    "try:\n",
    "    rows = session.execute(select_query2,(10,182))\n",
    "    df2 = pd.DataFrame(rows._current_rows)\n",
    "except Exception as e:\n",
    "    print(e)\n",
    "\n",
    "df2   "
   ]
  },
  {
   "cell_type": "code",
   "execution_count": 16,
   "metadata": {
    "editable": true
   },
   "outputs": [],
   "source": [
    "## query3:\n",
    "## The following table is designed to  answer queries where data is partioned based on song_title and\n",
    "## sorted by user_fname,user_lname\n",
    "## For quering this table, we will always require song_title in where clause \\\n",
    "## and user_fname , user_lname (cluster key) are optional. If used then they should also be used in order \\\n",
    "## for example user_lname should always come after user_fname in where clause.\n",
    "\n",
    "\n",
    "query3 = \"CREATE TABLE IF NOT EXISTS songs_user\"\n",
    "\n",
    "# Partition key: song_tile , Cluster/Sort keys (user_fname,user_lname)\n",
    "query3 = query3 + (\"\"\" (\n",
    "                        song_title TEXT,\n",
    "                        user_fname TEXT,\n",
    "                        user_lname TEXT,\n",
    "                        PRIMARY KEY (song_title, user_fname,user_lname)\n",
    "                                       ) \"\"\")\n",
    "\n",
    "try:\n",
    "    session.execute(query3)\n",
    "\n",
    "except Exception as e:\n",
    "    print(e)\n",
    "\n",
    "\n",
    "\n",
    "select_query3 = \"\"\" SELECT \n",
    "                        user_fname,\n",
    "                        user_lname\n",
    "                        \n",
    "                        FROM songs_user\n",
    "                        WHERE song_title = %s;\n",
    "                        \n",
    "                        \"\"\"\n",
    "                    "
   ]
  },
  {
   "cell_type": "code",
   "execution_count": 17,
   "metadata": {
    "editable": true
   },
   "outputs": [],
   "source": [
    "# loading Data into table: songs_user\n",
    "\n",
    "file = 'event_datafile_new.csv'\n",
    "with open(file, encoding = 'utf8') as f:\n",
    "    csvreader = csv.reader(f)\n",
    "    next(csvreader) # skip header\n",
    "    for line in csvreader:\n",
    "        \n",
    "        insert_query3 = \"\"\"INSERT INTO songs_user ( \n",
    "                                                    song_title\n",
    "                                                    ,user_fname\n",
    "                                                    ,user_lname\n",
    "                                                    \n",
    "                                                    )\"\"\"\n",
    "        \n",
    "        insert_query3 = insert_query3 + \"VALUES (%s, %s, %s)\"\n",
    "           \n",
    "        session.execute(insert_query3, ( line[9],line[1],line[4]))  "
   ]
  },
  {
   "cell_type": "code",
   "execution_count": 18,
   "metadata": {
    "editable": true
   },
   "outputs": [
    {
     "data": {
      "text/html": [
       "<div>\n",
       "<style scoped>\n",
       "    .dataframe tbody tr th:only-of-type {\n",
       "        vertical-align: middle;\n",
       "    }\n",
       "\n",
       "    .dataframe tbody tr th {\n",
       "        vertical-align: top;\n",
       "    }\n",
       "\n",
       "    .dataframe thead th {\n",
       "        text-align: right;\n",
       "    }\n",
       "</style>\n",
       "<table border=\"1\" class=\"dataframe\">\n",
       "  <thead>\n",
       "    <tr style=\"text-align: right;\">\n",
       "      <th></th>\n",
       "      <th>user_fname</th>\n",
       "      <th>user_lname</th>\n",
       "    </tr>\n",
       "  </thead>\n",
       "  <tbody>\n",
       "    <tr>\n",
       "      <th>0</th>\n",
       "      <td>Jacqueline</td>\n",
       "      <td>Lynch</td>\n",
       "    </tr>\n",
       "    <tr>\n",
       "      <th>1</th>\n",
       "      <td>Sara</td>\n",
       "      <td>Johnson</td>\n",
       "    </tr>\n",
       "    <tr>\n",
       "      <th>2</th>\n",
       "      <td>Tegan</td>\n",
       "      <td>Levine</td>\n",
       "    </tr>\n",
       "  </tbody>\n",
       "</table>\n",
       "</div>"
      ],
      "text/plain": [
       "   user_fname user_lname\n",
       "0  Jacqueline      Lynch\n",
       "1        Sara    Johnson\n",
       "2       Tegan     Levine"
      ]
     },
     "execution_count": 18,
     "metadata": {},
     "output_type": "execute_result"
    }
   ],
   "source": [
    "# Doing select statement on table: songs_user\n",
    "\n",
    "try:\n",
    "    rows = session.execute(select_query3,('All Hands Against His Own', ))\n",
    "    ##converting query rows into pandas data frame\n",
    "    df3 =pd.DataFrame(rows._current_rows)\n",
    "    \n",
    "except Exception as e:\n",
    "    print(e)\n",
    "\n",
    "df3\n"
   ]
  },
  {
   "cell_type": "code",
   "execution_count": 45,
   "metadata": {
    "editable": true
   },
   "outputs": [
    {
     "name": "stdout",
     "output_type": "stream",
     "text": [
      "Droping table: song_details\n",
      "Droping table: song_details_sorted\n",
      "Droping table: songs_user\n",
      "Error from server: code=2200 [Invalid query] message=\"unconfigured table songs_user\"\n"
     ]
    }
   ],
   "source": [
    "## Droping the table \n",
    "\n",
    "tables_created = ['song_details','song_details_sorted','songs_user']\n",
    "\n",
    "#looping through tables_created  list and droping tables\n",
    "\n",
    "for t in range(len(tables_created)):\n",
    "    \n",
    "    try:\n",
    "        print(\"Droping table: {}\".format(tables_created[t]))\n",
    "        session.execute(\"DROP TABLE {}\".format(tables_created[t]))\n",
    "    \n",
    "    except Exception as e:\n",
    "        print(e)\n",
    "\n",
    "    continue\n"
   ]
  },
  {
   "cell_type": "markdown",
   "metadata": {
    "editable": true
   },
   "source": [
    "### Close the session and cluster connection¶"
   ]
  },
  {
   "cell_type": "code",
   "execution_count": 20,
   "metadata": {
    "editable": true
   },
   "outputs": [],
   "source": [
    "session.shutdown()\n",
    "cluster.shutdown()"
   ]
  }
 ],
 "metadata": {
  "kernelspec": {
   "display_name": "Python 3",
   "language": "python",
   "name": "python3"
  },
  "language_info": {
   "codemirror_mode": {
    "name": "ipython",
    "version": 3
   },
   "file_extension": ".py",
   "mimetype": "text/x-python",
   "name": "python",
   "nbconvert_exporter": "python",
   "pygments_lexer": "ipython3",
   "version": "3.6.3"
  }
 },
 "nbformat": 4,
 "nbformat_minor": 4
}
