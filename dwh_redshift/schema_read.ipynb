{
 "cells": [
  {
   "cell_type": "markdown",
   "metadata": {},
   "source": [
    "## This Notebook is used for reading schema from Udacity's S3 bucket"
   ]
  },
  {
   "cell_type": "code",
   "execution_count": 15,
   "metadata": {},
   "outputs": [],
   "source": [
    "import boto3"
   ]
  },
  {
   "cell_type": "code",
   "execution_count": 36,
   "metadata": {},
   "outputs": [],
   "source": [
    "import pandas as pd\n"
   ]
  },
  {
   "cell_type": "code",
   "execution_count": 18,
   "metadata": {},
   "outputs": [
    {
     "data": {
      "text/plain": [
       "['dwh.cfg']"
      ]
     },
     "execution_count": 18,
     "metadata": {},
     "output_type": "execute_result"
    }
   ],
   "source": [
    "import configparser\n",
    "\n",
    "\n",
    "# CONFIG\n",
    "config = configparser.ConfigParser()\n",
    "config.read('dwh.cfg')"
   ]
  },
  {
   "cell_type": "code",
   "execution_count": 19,
   "metadata": {},
   "outputs": [],
   "source": [
    "aws_key = config['AWS']['AWS_ACESS_KEY']\n",
    "aws_pass = config['AWS']['AWS_PASS']"
   ]
  },
  {
   "cell_type": "code",
   "execution_count": 22,
   "metadata": {},
   "outputs": [],
   "source": [
    "log_data_schema= config[\"S3\"][\"LOG_JSONPATH\"]"
   ]
  },
  {
   "cell_type": "code",
   "execution_count": 31,
   "metadata": {},
   "outputs": [],
   "source": [
    "\n",
    "BUCKET = 'udacity-dend'\n",
    "FILE_TO_READ = 'log_json_path.json'\n"
   ]
  },
  {
   "cell_type": "code",
   "execution_count": 32,
   "metadata": {},
   "outputs": [],
   "source": [
    "s3= boto3.client('s3',\n",
    "                aws_access_key_id=aws_key,\n",
    "                aws_secret_access_key=aws_pass\n",
    "                  )"
   ]
  },
  {
   "cell_type": "code",
   "execution_count": 33,
   "metadata": {},
   "outputs": [],
   "source": [
    "result = s3.get_object(Bucket=BUCKET, Key=FILE_TO_READ) \n",
    "text = result[\"Body\"].read().decode()"
   ]
  },
  {
   "cell_type": "code",
   "execution_count": 34,
   "metadata": {},
   "outputs": [
    {
     "name": "stdout",
     "output_type": "stream",
     "text": [
      "{\n",
      "    \"jsonpaths\": [\n",
      "        \"$['artist']\",\n",
      "        \"$['auth']\",\n",
      "        \"$['firstName']\",\n",
      "        \"$['gender']\",\n",
      "        \"$['itemInSession']\",\n",
      "        \"$['lastName']\",\n",
      "        \"$['length']\",\n",
      "        \"$['level']\",\n",
      "        \"$['location']\",\n",
      "        \"$['method']\",\n",
      "        \"$['page']\",\n",
      "        \"$['registration']\",\n",
      "        \"$['sessionId']\",\n",
      "        \"$['song']\",\n",
      "        \"$['status']\",\n",
      "        \"$['ts']\",\n",
      "        \"$['userAgent']\",\n",
      "        \"$['userId']\"\n",
      "    ]\n",
      "}\n"
     ]
    }
   ],
   "source": [
    "print(text)"
   ]
  },
  {
   "cell_type": "code",
   "execution_count": 35,
   "metadata": {},
   "outputs": [
    {
     "name": "stdout",
     "output_type": "stream",
     "text": [
      "2019-04-02 18:58:44        456 log_json_path.json\r\n"
     ]
    }
   ],
   "source": [
    "! aws s3 ls ${log_data_schema} --profile udacity\n",
    "\n"
   ]
  },
  {
   "cell_type": "code",
   "execution_count": 39,
   "metadata": {},
   "outputs": [],
   "source": [
    "import json"
   ]
  },
  {
   "cell_type": "code",
   "execution_count": 55,
   "metadata": {},
   "outputs": [],
   "source": [
    "d ={\"num_songs\": 1,\n",
    "     \"artist_id\": \"ARJIE2Y1187B994AB7\",\n",
    "     \"artist_latitude\": None,\n",
    "     \"artist_longitude\": None,\n",
    "     \"artist_location\": \"\",\n",
    "     \"artist_name\": \"Line Renaud\",\n",
    "     \"song_id\": \"SOUPIRU12A6D4FA1E1\",\n",
    "     \"title\": \"Der Kleine Dompfaff\",\n",
    "     \"duration\": 152.92036,\n",
    "     \"year\": 0\n",
    "   } \n"
   ]
  },
  {
   "cell_type": "code",
   "execution_count": 68,
   "metadata": {},
   "outputs": [
    {
     "name": "stdout",
     "output_type": "stream",
     "text": [
      "['num_songs', 'artist_id', 'artist_latitude', 'artist_longitude', 'artist_location', 'artist_name', 'song_id', 'title', 'duration', 'year']\n"
     ]
    }
   ],
   "source": [
    "columns_d = list(d.keys())\n",
    "print(columns_d)"
   ]
  },
  {
   "cell_type": "code",
   "execution_count": 79,
   "metadata": {},
   "outputs": [],
   "source": [
    "df_songs = pd.DataFrame.from_dict(d.items())"
   ]
  },
  {
   "cell_type": "code",
   "execution_count": 81,
   "metadata": {},
   "outputs": [
    {
     "data": {
      "text/plain": [
       "0           num_songs\n",
       "1           artist_id\n",
       "2     artist_latitude\n",
       "3    artist_longitude\n",
       "4     artist_location\n",
       "5         artist_name\n",
       "6             song_id\n",
       "7               title\n",
       "8            duration\n",
       "9                year\n",
       "Name: 0, dtype: object"
      ]
     },
     "execution_count": 81,
     "metadata": {},
     "output_type": "execute_result"
    }
   ],
   "source": [
    "df_songs[0]"
   ]
  },
  {
   "cell_type": "code",
   "execution_count": null,
   "metadata": {},
   "outputs": [],
   "source": []
  }
 ],
 "metadata": {
  "kernelspec": {
   "display_name": "Python 3",
   "language": "python",
   "name": "python3"
  },
  "language_info": {
   "codemirror_mode": {
    "name": "ipython",
    "version": 3
   },
   "file_extension": ".py",
   "mimetype": "text/x-python",
   "name": "python",
   "nbconvert_exporter": "python",
   "pygments_lexer": "ipython3",
   "version": "3.7.6"
  }
 },
 "nbformat": 4,
 "nbformat_minor": 2
}
